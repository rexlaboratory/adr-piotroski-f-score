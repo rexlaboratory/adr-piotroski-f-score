{
 "cells": [
  {
   "cell_type": "markdown",
   "id": "b3f04168",
   "metadata": {},
   "source": [
    "# Evaluating Piotroski F-score on ADRs: Alpha Generation versus Classification Accuracy"
   ]
  },
  {
   "cell_type": "markdown",
   "id": "fbc51ce1",
   "metadata": {
    "id": "fbc51ce1"
   },
   "source": [
    "#### <b><span style=\"color:red\">TRANSPARENCY AND REPRODUCIBILITY NOTICE:</span>\n",
    "<b><span style=\"color:red\">Due to potential inconsistency of data from unsuccessful fetches, delisting, and limitations in availability and accuracy mentioned in Yahoo Terms of Service [3], pre-downloaded data from January 18, 2024 data pull are saved and used in Section 5 in order to reproduce the results </span><span style=\"text-decoration:underline;color:red\">for consistency throughout the research</span><span style=\"color:red\"><span style=\"text-decoration:bold;color:red\">. The Python scripts in Section 2 through Section 4 all use </span><span style=\"text-decoration:underline;color:red\">live data for transparency on logic</span>. While there are potential differences between the results from live data and the January 18, 2024 data, there is no significant difference in the general and overall results of the research.</span></b>"
   ]
  },
  {
   "cell_type": "markdown",
   "id": "231fb19c",
   "metadata": {
    "id": "231fb19c"
   },
   "source": [
    "## 1. Identify the list of foreign ADRs and extract it for use"
   ]
  },
  {
   "cell_type": "markdown",
   "id": "2158437c",
   "metadata": {
    "id": "2158437c"
   },
   "source": [
    "The stock universe used in this research is from **adr.com**, a  website owned by J.P. Morgan that houses information on depositary receipts including ADR stocks [1]. From this data, the list of ADR stocks and their ticker names are identified. The list of ADRs  extracted from **adr.com** is saved at: https://github.com/rexlaboratory/adr-piotroski-f-score/tree/main/adr-universe."
   ]
  },
  {
   "cell_type": "markdown",
   "id": "78352919",
   "metadata": {
    "id": "78352919"
   },
   "source": [
    "## 2. Retrieve financial data using YahooQuery"
   ]
  },
  {
   "cell_type": "markdown",
   "id": "3dda6ac7",
   "metadata": {},
   "source": [
    "Using the Yahoo Query Python package (primarily), the financial information of the ADR stocks are retrieved from Yahoo Finance data."
   ]
  },
  {
   "cell_type": "code",
   "execution_count": 1,
   "id": "e32df516",
   "metadata": {
    "id": "e32df516"
   },
   "outputs": [],
   "source": [
    "# Load Libraries\n",
    "\n",
    "import pandas as pd\n",
    "import numpy as np\n",
    "import os\n",
    "import yahooquery as yq\n",
    "from yahooquery import Ticker\n",
    "import concurrent.futures\n",
    "from concurrent.futures import ThreadPoolExecutor\n",
    "from tqdm import tqdm\n",
    "import yfinance as yf\n",
    "import datetime\n",
    "from datetime import datetime, timedelta\n",
    "import matplotlib.pyplot as plt\n",
    "import concurrent\n",
    "import logging\n",
    "import pandas_datareader\n",
    "from pandas_datareader import data as pdr\n",
    "from IPython.display import display\n",
    "import jinja2\n",
    "import warnings\n",
    "from sklearn.metrics import matthews_corrcoef\n",
    "warnings.filterwarnings(\"ignore\") # Ignore warnings"
   ]
  },
  {
   "cell_type": "code",
   "execution_count": 2,
   "id": "71cb26f2",
   "metadata": {
    "id": "71cb26f2"
   },
   "outputs": [],
   "source": [
    "# Specify the file containing the ADR list\n",
    "file_path = './adr-universe/dr_universe.xlsx'\n",
    "\n",
    "# Read data from the Excel file into a DataFrame\n",
    "df_adr = pd.read_excel(file_path)"
   ]
  },
  {
   "cell_type": "code",
   "execution_count": 3,
   "id": "42d06d34",
   "metadata": {
    "id": "42d06d34",
    "outputId": "12934b14-924f-49d3-f3e2-6b3aaf8db5ec"
   },
   "outputs": [
    {
     "data": {
      "text/plain": [
       "2498"
      ]
     },
     "execution_count": 3,
     "metadata": {},
     "output_type": "execute_result"
    }
   ],
   "source": [
    "# Check how many records are there in df_adr\n",
    "len(df_adr)"
   ]
  },
  {
   "cell_type": "code",
   "execution_count": 4,
   "id": "956046ce",
   "metadata": {
    "id": "956046ce"
   },
   "outputs": [],
   "source": [
    "# Filter to include ADRs only\n",
    "df_adr = df_adr[df_adr['Type'] == 'ADR']"
   ]
  },
  {
   "cell_type": "code",
   "execution_count": 5,
   "id": "80e46288",
   "metadata": {
    "id": "80e46288",
    "outputId": "750b0cf2-ac88-43d4-9881-8c41fb6e9dcc"
   },
   "outputs": [
    {
     "data": {
      "text/plain": [
       "2177"
      ]
     },
     "execution_count": 5,
     "metadata": {},
     "output_type": "execute_result"
    }
   ],
   "source": [
    "# Check how many records remain after filtering\n",
    "len(df_adr)"
   ]
  },
  {
   "cell_type": "code",
   "execution_count": 6,
   "id": "43304eda",
   "metadata": {
    "id": "43304eda",
    "scrolled": true
   },
   "outputs": [],
   "source": [
    "# Store ADR ticker names in a list\n",
    "tickers_list = df_adr['Symbol'].tolist()"
   ]
  },
  {
   "cell_type": "code",
   "execution_count": 7,
   "id": "b4806022",
   "metadata": {
    "id": "b4806022"
   },
   "outputs": [],
   "source": [
    "# Columns to retrieve from Yahoo Finance via Yahoo Query\n",
    "columns_to_extract = [\n",
    "    'asOfDate', 'periodType', 'NetIncome', 'GrossProfit', 'PretaxIncome',\n",
    "    'TotalRevenue', 'LongTermDebt', 'LongTermDebtAndCapitalLeaseObligation',\n",
    "    'TotalAssets', 'CurrentAssets', 'CurrentLiabilities', 'OperatingCashFlow',\n",
    "    'DilutedEPS', 'ShareIssued'\n",
    "]\n",
    "\n",
    "# List of tickers\n",
    "tickers = tickers_list\n",
    "\n",
    "# Define the function to fetch the data\n",
    "def fetch_data(ticker):\n",
    "    try:\n",
    "        # Get income statement data for the current ticker\n",
    "        financial_data = Ticker(ticker).all_financial_data()\n",
    "\n",
    "        # Extract the specified columns (with null values for non-existing columns)\n",
    "        data_for_ticker = {column: financial_data.get(column) for column in columns_to_extract}\n",
    "\n",
    "        # Add 'ticker' as a key to the dictionary\n",
    "        data_for_ticker['ticker'] = ticker\n",
    "\n",
    "        # Convert the dictionary to a DataFrame and return it\n",
    "        return pd.DataFrame(data_for_ticker)\n",
    "    except Exception as e:\n",
    "        # print(f\"Error fetching data for {ticker}: {str(e)}\")\n",
    "\n",
    "        return pd.DataFrame()"
   ]
  },
  {
   "cell_type": "code",
   "execution_count": 8,
   "id": "f581ad8e",
   "metadata": {
    "id": "f581ad8e",
    "outputId": "0aaa376a-1e39-4136-9a4a-8973116552fd"
   },
   "outputs": [
    {
     "name": "stderr",
     "output_type": "stream",
     "text": [
      "Fetching Data: 100%|███████████████████████████████████████████████████████████████| 2177/2177 [13:31<00:00,  2.68it/s]\n"
     ]
    }
   ],
   "source": [
    "# Note: Running this code may take a while to complete. ThreadPool helped gain a slight improvement in run time.\n",
    "\n",
    "# Parallel processing to fetch the financial data\n",
    "with ThreadPoolExecutor() as executor, tqdm(total=len(tickers), desc=\"Fetching Data\") as pbar:\n",
    "    # Fetch data for all tickers concurrently\n",
    "    df_list = list(executor.map(lambda ticker: (pbar.update(1) or fetch_data(ticker)), tickers))"
   ]
  },
  {
   "cell_type": "code",
   "execution_count": 9,
   "id": "3cc4884c",
   "metadata": {
    "id": "3cc4884c"
   },
   "outputs": [],
   "source": [
    "# Filter out unsuccessful fetches (False values)\n",
    "df_list1 = [df for df in df_list if isinstance(df, pd.DataFrame) and not df.empty]"
   ]
  },
  {
   "cell_type": "code",
   "execution_count": 10,
   "id": "8ecae715",
   "metadata": {
    "id": "8ecae715",
    "outputId": "148efff3-bf9f-495d-f67f-0b433f2c44fc",
    "scrolled": true
   },
   "outputs": [],
   "source": [
    "# Combine individual DataFrames into one DataFrame\n",
    "df1 = pd.concat(df_list1, ignore_index=True)"
   ]
  },
  {
   "cell_type": "code",
   "execution_count": 11,
   "id": "80a827a3",
   "metadata": {
    "id": "80a827a3",
    "outputId": "f7b71390-5671-44ff-e93c-af5b83487d35",
    "scrolled": true
   },
   "outputs": [
    {
     "data": {
      "text/html": [
       "<div>\n",
       "<style scoped>\n",
       "    .dataframe tbody tr th:only-of-type {\n",
       "        vertical-align: middle;\n",
       "    }\n",
       "\n",
       "    .dataframe tbody tr th {\n",
       "        vertical-align: top;\n",
       "    }\n",
       "\n",
       "    .dataframe thead th {\n",
       "        text-align: right;\n",
       "    }\n",
       "</style>\n",
       "<table border=\"1\" class=\"dataframe\">\n",
       "  <thead>\n",
       "    <tr style=\"text-align: right;\">\n",
       "      <th></th>\n",
       "      <th>asOfDate</th>\n",
       "      <th>periodType</th>\n",
       "      <th>NetIncome</th>\n",
       "      <th>GrossProfit</th>\n",
       "      <th>PretaxIncome</th>\n",
       "      <th>TotalRevenue</th>\n",
       "      <th>LongTermDebt</th>\n",
       "      <th>LongTermDebtAndCapitalLeaseObligation</th>\n",
       "      <th>TotalAssets</th>\n",
       "      <th>CurrentAssets</th>\n",
       "      <th>CurrentLiabilities</th>\n",
       "      <th>OperatingCashFlow</th>\n",
       "      <th>DilutedEPS</th>\n",
       "      <th>ShareIssued</th>\n",
       "      <th>ticker</th>\n",
       "    </tr>\n",
       "  </thead>\n",
       "  <tbody>\n",
       "    <tr>\n",
       "      <th>0</th>\n",
       "      <td>2020-12-31</td>\n",
       "      <td>12M</td>\n",
       "      <td>-2.709347e+09</td>\n",
       "      <td>1.076011e+09</td>\n",
       "      <td>-2.581792e+09</td>\n",
       "      <td>4.829019e+09</td>\n",
       "      <td>3.901053e+09</td>\n",
       "      <td>5.234680e+09</td>\n",
       "      <td>1.937376e+10</td>\n",
       "      <td>6.055607e+09</td>\n",
       "      <td>6.121960e+09</td>\n",
       "      <td>7.142430e+08</td>\n",
       "      <td>-26.8200</td>\n",
       "      <td>817170095.0</td>\n",
       "      <td>VNET</td>\n",
       "    </tr>\n",
       "    <tr>\n",
       "      <th>1</th>\n",
       "      <td>2021-12-31</td>\n",
       "      <td>12M</td>\n",
       "      <td>5.000980e+08</td>\n",
       "      <td>1.438030e+09</td>\n",
       "      <td>6.651740e+08</td>\n",
       "      <td>6.189801e+09</td>\n",
       "      <td>6.481966e+09</td>\n",
       "      <td>9.885772e+09</td>\n",
       "      <td>2.309504e+10</td>\n",
       "      <td>5.324123e+09</td>\n",
       "      <td>5.179995e+09</td>\n",
       "      <td>1.387922e+09</td>\n",
       "      <td>-2.1600</td>\n",
       "      <td>890714046.0</td>\n",
       "      <td>VNET</td>\n",
       "    </tr>\n",
       "    <tr>\n",
       "      <th>2</th>\n",
       "      <td>2022-12-31</td>\n",
       "      <td>12M</td>\n",
       "      <td>-7.759520e+08</td>\n",
       "      <td>1.358256e+09</td>\n",
       "      <td>-6.304550e+08</td>\n",
       "      <td>7.065232e+09</td>\n",
       "      <td>8.909115e+09</td>\n",
       "      <td>1.286204e+10</td>\n",
       "      <td>2.694840e+10</td>\n",
       "      <td>7.052276e+09</td>\n",
       "      <td>6.332085e+09</td>\n",
       "      <td>2.440214e+09</td>\n",
       "      <td>-5.2200</td>\n",
       "      <td>921495769.0</td>\n",
       "      <td>VNET</td>\n",
       "    </tr>\n",
       "    <tr>\n",
       "      <th>3</th>\n",
       "      <td>2020-03-31</td>\n",
       "      <td>12M</td>\n",
       "      <td>2.140000e+08</td>\n",
       "      <td>NaN</td>\n",
       "      <td>2.150000e+08</td>\n",
       "      <td>3.310000e+08</td>\n",
       "      <td>NaN</td>\n",
       "      <td>5.950000e+08</td>\n",
       "      <td>8.567000e+09</td>\n",
       "      <td>NaN</td>\n",
       "      <td>NaN</td>\n",
       "      <td>NaN</td>\n",
       "      <td>0.1105</td>\n",
       "      <td>983472617.0</td>\n",
       "      <td>TGOPY</td>\n",
       "    </tr>\n",
       "    <tr>\n",
       "      <th>4</th>\n",
       "      <td>2021-03-31</td>\n",
       "      <td>12M</td>\n",
       "      <td>1.855000e+09</td>\n",
       "      <td>NaN</td>\n",
       "      <td>1.855000e+09</td>\n",
       "      <td>1.966000e+09</td>\n",
       "      <td>NaN</td>\n",
       "      <td>9.920000e+08</td>\n",
       "      <td>1.083700e+10</td>\n",
       "      <td>NaN</td>\n",
       "      <td>NaN</td>\n",
       "      <td>NaN</td>\n",
       "      <td>0.9595</td>\n",
       "      <td>981697581.0</td>\n",
       "      <td>TGOPY</td>\n",
       "    </tr>\n",
       "  </tbody>\n",
       "</table>\n",
       "</div>"
      ],
      "text/plain": [
       "    asOfDate periodType     NetIncome   GrossProfit  PretaxIncome  \\\n",
       "0 2020-12-31        12M -2.709347e+09  1.076011e+09 -2.581792e+09   \n",
       "1 2021-12-31        12M  5.000980e+08  1.438030e+09  6.651740e+08   \n",
       "2 2022-12-31        12M -7.759520e+08  1.358256e+09 -6.304550e+08   \n",
       "3 2020-03-31        12M  2.140000e+08           NaN  2.150000e+08   \n",
       "4 2021-03-31        12M  1.855000e+09           NaN  1.855000e+09   \n",
       "\n",
       "   TotalRevenue  LongTermDebt  LongTermDebtAndCapitalLeaseObligation  \\\n",
       "0  4.829019e+09  3.901053e+09                           5.234680e+09   \n",
       "1  6.189801e+09  6.481966e+09                           9.885772e+09   \n",
       "2  7.065232e+09  8.909115e+09                           1.286204e+10   \n",
       "3  3.310000e+08           NaN                           5.950000e+08   \n",
       "4  1.966000e+09           NaN                           9.920000e+08   \n",
       "\n",
       "    TotalAssets  CurrentAssets  CurrentLiabilities  OperatingCashFlow  \\\n",
       "0  1.937376e+10   6.055607e+09        6.121960e+09       7.142430e+08   \n",
       "1  2.309504e+10   5.324123e+09        5.179995e+09       1.387922e+09   \n",
       "2  2.694840e+10   7.052276e+09        6.332085e+09       2.440214e+09   \n",
       "3  8.567000e+09            NaN                 NaN                NaN   \n",
       "4  1.083700e+10            NaN                 NaN                NaN   \n",
       "\n",
       "   DilutedEPS  ShareIssued ticker  \n",
       "0    -26.8200  817170095.0   VNET  \n",
       "1     -2.1600  890714046.0   VNET  \n",
       "2     -5.2200  921495769.0   VNET  \n",
       "3      0.1105  983472617.0  TGOPY  \n",
       "4      0.9595  981697581.0  TGOPY  "
      ]
     },
     "execution_count": 11,
     "metadata": {},
     "output_type": "execute_result"
    }
   ],
   "source": [
    "# Check the first few records\n",
    "df1.head()"
   ]
  },
  {
   "cell_type": "code",
   "execution_count": 12,
   "id": "9df11663",
   "metadata": {
    "id": "9df11663",
    "outputId": "785b1543-df5e-4630-c05f-0875e37833ba",
    "scrolled": true
   },
   "outputs": [
    {
     "data": {
      "text/plain": [
       "998"
      ]
     },
     "execution_count": 12,
     "metadata": {},
     "output_type": "execute_result"
    }
   ],
   "source": [
    "# Check the number of unique tickers fetched\n",
    "len(df1['ticker'].unique())"
   ]
  },
  {
   "cell_type": "markdown",
   "id": "a8862a3f",
   "metadata": {
    "id": "a8862a3f"
   },
   "source": [
    "## 3. Transform data and compute Piotroski F-Scores"
   ]
  },
  {
   "cell_type": "code",
   "execution_count": 13,
   "id": "2131d5b6",
   "metadata": {
    "id": "2131d5b6"
   },
   "outputs": [],
   "source": [
    "# For historical reference, write the cleansed ADR data to an Excel file\n",
    "df1.to_excel('./output-files/cleansed_adr_list.xlsx', index=False)"
   ]
  },
  {
   "cell_type": "code",
   "execution_count": 14,
   "id": "eca7d2a7",
   "metadata": {
    "id": "eca7d2a7"
   },
   "outputs": [],
   "source": [
    "# Convert 'asOfDate' to datetime type\n",
    "df1['asOfDate'] = pd.to_datetime(df1['asOfDate'])\n",
    "\n",
    "# Create a copy of df1\n",
    "df1_copy = df1"
   ]
  },
  {
   "cell_type": "code",
   "execution_count": 15,
   "id": "a9d98a46",
   "metadata": {
    "id": "a9d98a46"
   },
   "outputs": [],
   "source": [
    "# Remove duplicate records using both 'asOfDate' and 'ticker'\n",
    "df1_copy.drop_duplicates(subset=['asOfDate', 'ticker'], keep='first', inplace=True)\n",
    "\n",
    "# Filter only the tickers with 'asOfDate' values: '2020-12-31', '2021-12-31', '2022-12-31'\n",
    "target_asofdates = ['2020-12-31', '2021-12-31', '2022-12-31']\n",
    "df_filtered1 = df1_copy[df1_copy['asOfDate'].isin(target_asofdates)]\n",
    "\n",
    "# Filter tickers with ALL three 'asOfDate' records: 2020, 2021, 2022. Ensure all three years have record for each ticker.\n",
    "filtered_tickers = df_filtered1.groupby('ticker')['asOfDate'].transform('nunique') == 3\n",
    "df_filtered2 = df_filtered1[filtered_tickers]\n",
    "df_filtered3 = df_filtered2[df_filtered2['asOfDate'].isin(target_asofdates)]"
   ]
  },
  {
   "cell_type": "markdown",
   "id": "42fe8c71",
   "metadata": {},
   "source": [
    "### 3.1 Compute for the Piotroski F-Scores"
   ]
  },
  {
   "cell_type": "markdown",
   "id": "935ad24b",
   "metadata": {},
   "source": [
    "From the financial information, the following nine questions are answered using a binary logic [2]. For each ADR stock in a given year, one (1) point is earned if the answer to the corresponding question is ‘yes’. Otherwise, zero (0) point is given.\n",
    "\n",
    "1. Is Net Income positive?\n",
    "2. Is Operating Cash Flow positive?\n",
    "3. Is Return on Assets (Net Income divided by Total Assets) higher this year compared to last year?\n",
    "4. Is Operating Cash Flow greater than Net Income?\n",
    "5. Is Leverage (Long Term Debt And Capital Lease Obligation divided by Total Assets) lower this year compared to last year? Long Term Debt is used as a proxy in case Long Term Debt And Capital Lease Obligation is not available from Yahoo Finance data.\n",
    "6. Is Liquidity (Current Assets divided by Current Liabilities) higher this year compared to last year?\n",
    "7. Is Shares Issued lower this year compared to last year?\n",
    "8. Is Gross Margin (Gross Profit divided by Total Revenue) higher this year compared to last year? Pretax Income is used as a proxy in case Gross Profit is not available from Yahoo Finance data.\n",
    "9. Is Asset Turnover (Total Revenue divided by Total Assets) higher this year compared to last year?\n"
   ]
  },
  {
   "cell_type": "code",
   "execution_count": 16,
   "id": "616a17e0",
   "metadata": {
    "id": "616a17e0"
   },
   "outputs": [],
   "source": [
    "# Define a function to calculate Boolean values for each of the Piotroski criteria\n",
    "# Note: IsLeverage2Improved is used as a proxy for IsLeverage1Improved depending on financial statement format from Yahoo Finance\n",
    "# Note: IsGrossMargin2Improved is be used as a proxy for IsGrossMargin1Improved depending on financial statement format from Yahoo Finance\n",
    "def calculate_boolean_values(df):\n",
    "    df['IsNetIncomePositive'] = (df['NetIncome'] > 0).astype(int)\n",
    "    df['IsOperatingCashFlowPositive'] = (df['OperatingCashFlow'] > 0).astype(int)\n",
    "    df['IsROAImproved'] = ((df['NetIncome'] / df['TotalAssets']) > (df.groupby('ticker')['NetIncome'].shift() / df.groupby('ticker')['TotalAssets'].shift())).astype(int)\n",
    "    df['IsCashFlowGreaterThanNetIncome'] = (df['OperatingCashFlow'] > df['NetIncome']).astype(int)\n",
    "    df['IsLeverage1Improved'] = ((df['LongTermDebtAndCapitalLeaseObligation'] / df['TotalAssets']) < (df.groupby('ticker')['LongTermDebtAndCapitalLeaseObligation'].shift() / df.groupby('ticker')['TotalAssets'].shift())).astype(int)\n",
    "    df['IsLeverage2Improved'] = ((df['LongTermDebt'] / df['TotalAssets']) < (df.groupby('ticker')['LongTermDebt'].shift() / df.groupby('ticker')['TotalAssets'].shift())).astype(int)\n",
    "    df['IsLiquidityImproved'] = ((df['CurrentAssets'] / df['CurrentLiabilities']) > (df.groupby('ticker')['CurrentAssets'].shift() / df.groupby('ticker')['CurrentLiabilities'].shift())).astype(int)\n",
    "    df['IsShareIssuedReduced'] = ((df['ShareIssued']) < (df.groupby('ticker')['ShareIssued'].shift())).astype(int)\n",
    "    df['IsGrossMargin1Improved'] = ((df['GrossProfit'] / df['TotalRevenue']) > (df.groupby('ticker')['GrossProfit'].shift() / df.groupby('ticker')['TotalRevenue'].shift())).astype(int)\n",
    "    df['IsGrossMargin2Improved'] = ((df['PretaxIncome'] / df['TotalRevenue']) > (df.groupby('ticker')['PretaxIncome'].shift() / df.groupby('ticker')['TotalRevenue'].shift())).astype(int)\n",
    "    df['IsAssetTurnoverImproved'] = ((df['TotalRevenue'] / df['TotalAssets']) > (df.groupby('ticker')['TotalRevenue'].shift() / df.groupby('ticker')['TotalAssets'].shift())).astype(int)\n",
    "\n",
    "    # Add Fscore column\n",
    "    df['Fscore'] = (\n",
    "        df['IsNetIncomePositive'] +\n",
    "        df['IsOperatingCashFlowPositive'] +\n",
    "        df['IsROAImproved'] +\n",
    "        df['IsCashFlowGreaterThanNetIncome'] +\n",
    "        df[['IsLeverage1Improved', 'IsLeverage2Improved']].max(axis=1) + # Get only the maximum between the two; IsLeverage2Improved is used as a proxy for IsLeverage1Improved\n",
    "        df['IsLiquidityImproved'] +\n",
    "        df['IsShareIssuedReduced'] +\n",
    "        df[['IsGrossMargin1Improved', 'IsGrossMargin2Improved']].max(axis=1) + # Get only the maximum between the two; IsGrossMargin2Improved can be used as a proxy for IsGrossMargin1Improved\n",
    "        df['IsAssetTurnoverImproved']\n",
    "    )"
   ]
  },
  {
   "cell_type": "code",
   "execution_count": 17,
   "id": "63822843",
   "metadata": {
    "id": "63822843"
   },
   "outputs": [],
   "source": [
    "# Calculate the Piotroski criteria value using the function defined earlier\n",
    "calculate_boolean_values(df_filtered3)"
   ]
  },
  {
   "cell_type": "code",
   "execution_count": 18,
   "id": "a3a68974",
   "metadata": {
    "id": "a3a68974"
   },
   "outputs": [],
   "source": [
    "# Create two new dataframes for 2021 and 2022 summaries\n",
    "df_2021 = df_filtered3[df_filtered3['asOfDate'].dt.year == 2021].copy()\n",
    "df_2022 = df_filtered3[df_filtered3['asOfDate'].dt.year == 2022].copy()"
   ]
  },
  {
   "cell_type": "code",
   "execution_count": 19,
   "id": "1a84e2e4",
   "metadata": {
    "id": "1a84e2e4",
    "outputId": "bd935b57-a01a-40f4-8e09-7315e52f6abc"
   },
   "outputs": [
    {
     "data": {
      "text/plain": [
       "699"
      ]
     },
     "execution_count": 19,
     "metadata": {},
     "output_type": "execute_result"
    }
   ],
   "source": [
    "# Check the number of unique tickers in 2021 data\n",
    "len(df_2021['ticker'].unique())"
   ]
  },
  {
   "cell_type": "code",
   "execution_count": 20,
   "id": "4f3906be",
   "metadata": {
    "id": "4f3906be",
    "outputId": "27878b87-772c-4bf8-bed7-87aaaf152832"
   },
   "outputs": [
    {
     "data": {
      "text/plain": [
       "699"
      ]
     },
     "execution_count": 20,
     "metadata": {},
     "output_type": "execute_result"
    }
   ],
   "source": [
    "# Check the number of unique tickers in 2022 data\n",
    "len(df_2022['ticker'].unique())"
   ]
  },
  {
   "cell_type": "code",
   "execution_count": 21,
   "id": "ae9edfd3",
   "metadata": {
    "id": "ae9edfd3"
   },
   "outputs": [],
   "source": [
    "# For historical reference, save the Fscore data to Excel files\n",
    "fscore_file_path = './output-files/adr_piotroskFscores_2021_2022.xlsx'\n",
    "df_filtered3.to_excel(fscore_file_path, index=False)\n",
    "\n",
    "# For historical reference, save the 2021 Fscore data to Excel files\n",
    "fscore_2021_file_path = './output-files/adr_piotroskFscores_2021.xlsx'\n",
    "df_2021.to_excel(fscore_2021_file_path, index=False)\n",
    "\n",
    "# For historical reference, save the 2022 Fscore data to Excel files\n",
    "fscore_2022_file_path = './output-files/adr_piotroskiFscores_2022.xlsx'\n",
    "df_2022.to_excel(fscore_2022_file_path, index=False)"
   ]
  },
  {
   "cell_type": "code",
   "execution_count": 22,
   "id": "dd52c023",
   "metadata": {
    "id": "dd52c023"
   },
   "outputs": [],
   "source": [
    "# Define a variable 'basket_df' as the stock basket\n",
    "basket_df = df_2021\n",
    "\n",
    "# Define the start dates and end dates range for downloading the ADR stock price (close price)\n",
    "start_date_2022 = '2022-01-03'\n",
    "start_date_2022_1 = '2022-01-04'\n",
    "\n",
    "end_date_2022 = '2022-12-30'\n",
    "end_date_2022_1 = '2022-12-31'\n",
    "\n",
    "start_date_2023 = '2023-01-03'\n",
    "start_date_2023_1 = '2023-01-04'\n",
    "\n",
    "end_date_2023 = '2023-12-29'\n",
    "end_date_2023_1 = '2023-12-30'"
   ]
  },
  {
   "cell_type": "code",
   "execution_count": 23,
   "id": "f36a5503",
   "metadata": {
    "id": "f36a5503",
    "outputId": "c6ad076d-03ef-4f1e-8ece-fcaaf85d42f9",
    "scrolled": true
   },
   "outputs": [
    {
     "name": "stdout",
     "output_type": "stream",
     "text": [
      "[*********************100%***********************]  699 of 699 completed\n",
      "\n",
      "41 Failed downloads:\n",
      "- SIGCY: Data doesn't exist for startDate = 1641186000, endDate = 1641272400\n",
      "- CTNGY: Data doesn't exist for startDate = 1641186000, endDate = 1641272400\n",
      "- BKFKY: Data doesn't exist for startDate = 1641186000, endDate = 1641272400\n",
      "- ZHHJY: Data doesn't exist for startDate = 1641186000, endDate = 1641272400\n",
      "- THGHY: Data doesn't exist for startDate = 1641186000, endDate = 1641272400\n",
      "- GBXXY: Data doesn't exist for startDate = 1641186000, endDate = 1641272400\n",
      "- HLN: Data doesn't exist for startDate = 1641186000, endDate = 1641272400\n",
      "- IMIUY: Data doesn't exist for startDate = 1641186000, endDate = 1641272400\n",
      "- SHANY: Data doesn't exist for startDate = 1641186000, endDate = 1641272400\n",
      "- TAGYY: Data doesn't exist for startDate = 1641186000, endDate = 1641272400\n",
      "- ABHBY: Data doesn't exist for startDate = 1641186000, endDate = 1641272400\n",
      "- TBABY: Data doesn't exist for startDate = 1641186000, endDate = 1641272400\n",
      "- UDIRY: No data found, symbol may be delisted\n",
      "- TJIPY: Data doesn't exist for startDate = 1641186000, endDate = 1641272400\n",
      "- NDWTY: Data doesn't exist for startDate = 1641186000, endDate = 1641272400\n",
      "- VARRY: Data doesn't exist for startDate = 1641186000, endDate = 1641272400\n",
      "- TCGGY: Data doesn't exist for startDate = 1641186000, endDate = 1641272400\n",
      "- NRGIY: Data doesn't exist for startDate = 1641186000, endDate = 1641272400\n",
      "- EXTO: Data doesn't exist for startDate = 1641186000, endDate = 1641272400\n",
      "- JSLGY: Data doesn't exist for startDate = 1641186000, endDate = 1641272400\n",
      "- HXXPY: Data doesn't exist for startDate = 1641186000, endDate = 1641272400\n",
      "- SRTOY: Data doesn't exist for startDate = 1641186000, endDate = 1641272400\n",
      "- AKBDY: No data found, symbol may be delisted\n",
      "- CGNWY: No data found, symbol may be delisted\n",
      "- AKO/B: No data found for this date range, symbol may be delisted\n",
      "- HMNTY: Data doesn't exist for startDate = 1641186000, endDate = 1641272400\n",
      "- TNEXY: No data found for this date range, symbol may be delisted\n",
      "- PSPSY: Data doesn't exist for startDate = 1641186000, endDate = 1641272400\n",
      "- TGASY: No data found, symbol may be delisted\n",
      "- TCBP: Data doesn't exist for startDate = 1641186000, endDate = 1641272400\n",
      "- CFACY: Data doesn't exist for startDate = 1641186000, endDate = 1641272400\n",
      "- EBR B: No data found, symbol may be delisted\n",
      "- KYKOY: Data doesn't exist for startDate = 1641186000, endDate = 1641272400\n",
      "- KMRSF: Data doesn't exist for startDate = 1641186000, endDate = 1641272400\n",
      "- KWLDY: Data doesn't exist for startDate = 1641186000, endDate = 1641272400\n",
      "- GIVPY: Data doesn't exist for startDate = 1641186000, endDate = 1641272400\n",
      "- WILWY: Data doesn't exist for startDate = 1641186000, endDate = 1641272400\n",
      "- FLDAY: Data doesn't exist for startDate = 1641186000, endDate = 1641272400\n",
      "- NPPHY: Data doesn't exist for startDate = 1641186000, endDate = 1641272400\n",
      "- HCXLY: Data doesn't exist for startDate = 1641186000, endDate = 1641272400\n",
      "- BWOFY: Data doesn't exist for startDate = 1641186000, endDate = 1641272400\n",
      "[*********************100%***********************]  699 of 699 completed\n",
      "\n",
      "27 Failed downloads:\n",
      "- BKFKY: Data doesn't exist for startDate = 1672376400, endDate = 1672462800\n",
      "- ZHHJY: Data doesn't exist for startDate = 1672376400, endDate = 1672462800\n",
      "- IMIUY: Data doesn't exist for startDate = 1672376400, endDate = 1672462800\n",
      "- SHANY: Data doesn't exist for startDate = 1672376400, endDate = 1672462800\n",
      "- ABHBY: Data doesn't exist for startDate = 1672376400, endDate = 1672462800\n",
      "- TBABY: Data doesn't exist for startDate = 1672376400, endDate = 1672462800\n",
      "- UDIRY: No data found, symbol may be delisted\n",
      "- TJIPY: Data doesn't exist for startDate = 1672376400, endDate = 1672462800\n",
      "- NDWTY: Data doesn't exist for startDate = 1672376400, endDate = 1672462800\n",
      "- VARRY: Data doesn't exist for startDate = 1672376400, endDate = 1672462800\n",
      "- NRGIY: Data doesn't exist for startDate = 1672376400, endDate = 1672462800\n",
      "- EXTO: Data doesn't exist for startDate = 1672376400, endDate = 1672462800\n",
      "- JSLGY: Data doesn't exist for startDate = 1672376400, endDate = 1672462800\n",
      "- AKBDY: No data found, symbol may be delisted\n",
      "- CGNWY: No data found, symbol may be delisted\n",
      "- AKO/B: No data found for this date range, symbol may be delisted\n",
      "- TNEXY: No data found for this date range, symbol may be delisted\n",
      "- PSPSY: Data doesn't exist for startDate = 1672376400, endDate = 1672462800\n",
      "- TGASY: No data found, symbol may be delisted\n",
      "- CFACY: Data doesn't exist for startDate = 1672376400, endDate = 1672462800\n",
      "- EBR B: No data found, symbol may be delisted\n",
      "- KYKOY: Data doesn't exist for startDate = 1672376400, endDate = 1672462800\n",
      "- KMRSF: Data doesn't exist for startDate = 1672376400, endDate = 1672462800\n",
      "- WILWY: Data doesn't exist for startDate = 1672376400, endDate = 1672462800\n",
      "- FLDAY: Data doesn't exist for startDate = 1672376400, endDate = 1672462800\n",
      "- NPPHY: Data doesn't exist for startDate = 1672376400, endDate = 1672462800\n",
      "- BWOFY: Data doesn't exist for startDate = 1672376400, endDate = 1672462800\n",
      "[*********************100%***********************]  699 of 699 completed\n",
      "\n",
      "27 Failed downloads:\n",
      "- BKFKY: Data doesn't exist for startDate = 1672722000, endDate = 1672808400\n",
      "- ZHHJY: Data doesn't exist for startDate = 1672722000, endDate = 1672808400\n",
      "- IMIUY: Data doesn't exist for startDate = 1672722000, endDate = 1672808400\n",
      "- SHANY: Data doesn't exist for startDate = 1672722000, endDate = 1672808400\n",
      "- ABHBY: Data doesn't exist for startDate = 1672722000, endDate = 1672808400\n",
      "- TBABY: Data doesn't exist for startDate = 1672722000, endDate = 1672808400\n",
      "- UDIRY: No data found, symbol may be delisted\n",
      "- TJIPY: Data doesn't exist for startDate = 1672722000, endDate = 1672808400\n",
      "- NDWTY: Data doesn't exist for startDate = 1672722000, endDate = 1672808400\n",
      "- VARRY: Data doesn't exist for startDate = 1672722000, endDate = 1672808400\n",
      "- NRGIY: Data doesn't exist for startDate = 1672722000, endDate = 1672808400\n",
      "- EXTO: Data doesn't exist for startDate = 1672722000, endDate = 1672808400\n",
      "- JSLGY: Data doesn't exist for startDate = 1672722000, endDate = 1672808400\n",
      "- AKBDY: No data found, symbol may be delisted\n",
      "- AKO/B: No data found for this date range, symbol may be delisted\n",
      "- CGNWY: No data found, symbol may be delisted\n",
      "- TNEXY: No data found for this date range, symbol may be delisted\n",
      "- PSPSY: Data doesn't exist for startDate = 1672722000, endDate = 1672808400\n",
      "- TGASY: No data found, symbol may be delisted\n",
      "- CFACY: Data doesn't exist for startDate = 1672722000, endDate = 1672808400\n",
      "- EBR B: No data found, symbol may be delisted\n",
      "- KYKOY: Data doesn't exist for startDate = 1672722000, endDate = 1672808400\n",
      "- KMRSF: Data doesn't exist for startDate = 1672722000, endDate = 1672808400\n",
      "- WILWY: Data doesn't exist for startDate = 1672722000, endDate = 1672808400\n",
      "- FLDAY: Data doesn't exist for startDate = 1672722000, endDate = 1672808400\n",
      "- NPPHY: Data doesn't exist for startDate = 1672722000, endDate = 1672808400\n",
      "- BWOFY: Data doesn't exist for startDate = 1672722000, endDate = 1672808400\n",
      "[*********************100%***********************]  699 of 699 completed\n",
      "\n",
      "8 Failed downloads:\n",
      "- UDIRY: No data found, symbol may be delisted\n",
      "- AKBDY: No data found, symbol may be delisted\n",
      "- CGNWY: No data found, symbol may be delisted\n",
      "- AKO/B: No data found for this date range, symbol may be delisted\n",
      "- BSTHY: No data found for this date range, symbol may be delisted\n",
      "- TNEXY: No data found for this date range, symbol may be delisted\n",
      "- TGASY: No data found, symbol may be delisted\n",
      "- EBR B: No data found, symbol may be delisted\n"
     ]
    }
   ],
   "source": [
    "# Note: Fetching the daily stock price data for 2-year range for hundreds of stocks may take a while.\n",
    "\n",
    "# Fetch adjusted close prices at the defined date range\n",
    "start_prices_2022 = yf.download(basket_df['ticker'].tolist(), start = start_date_2022, end = start_date_2022_1)['Close']\n",
    "end_prices_2022 = yf.download(basket_df['ticker'].tolist(), start = end_date_2022, end = end_date_2022_1)['Close']\n",
    "start_prices_2023 = yf.download(basket_df['ticker'].tolist(), start = start_date_2023, end = start_date_2023_1)['Close']\n",
    "end_prices_2023 = yf.download(basket_df['ticker'].tolist(), start = end_date_2023, end = end_date_2023_1)['Close']"
   ]
  },
  {
   "cell_type": "markdown",
   "id": "b3f193e7",
   "metadata": {},
   "source": [
    "Some of the stocks (e.g., delisted stocks in a particular year) do not have price data. For example, in 2022 there are 50 stocks (out of 742) without price data, while we have complete price data for 692 stocks."
   ]
  },
  {
   "cell_type": "code",
   "execution_count": 24,
   "id": "c72730c4",
   "metadata": {
    "id": "c72730c4"
   },
   "outputs": [],
   "source": [
    "# For historical reference, save the successfully retrieved ADR stock price data to Excel files\n",
    "\n",
    "start_prices_2022.to_excel('./output-files/start_prices_2022.xlsx', index=False)\n",
    "end_prices_2022.to_excel('./output-files/end_prices_2022.xlsx', index=False)\n",
    "start_prices_2023.to_excel('./output-files/start_prices_2023.xlsx', index=False)\n",
    "end_prices_2023.to_excel('./output-files/end_prices_2023.xlsx', index=False)"
   ]
  },
  {
   "cell_type": "code",
   "execution_count": 25,
   "id": "dae82731",
   "metadata": {},
   "outputs": [],
   "source": [
    "# Retrieve the Fscore Excel data processed earlier\n",
    "\n",
    "fscore_file_path = './output-files/adr_piotroskFscores_2021_2022.xlsx'\n",
    "fscore_2021_file_path = './output-files/adr_piotroskFscores_2021.xlsx'\n",
    "fscore_2022_file_path = './output-files/adr_piotroskiFscores_2022.xlsx'\n",
    "adr_universe_file_path = './adr-universe/dr_universe.xlsx'\n",
    "\n",
    "df_filtered3 = pd.read_excel(fscore_file_path)\n",
    "df_2021 = pd.read_excel(fscore_2021_file_path)\n",
    "df_2022 = pd.read_excel(fscore_2022_file_path)\n",
    "df_adr_ref = pd.read_excel(adr_universe_file_path)"
   ]
  },
  {
   "cell_type": "code",
   "execution_count": 26,
   "id": "2d378a8f",
   "metadata": {},
   "outputs": [],
   "source": [
    "# Retrieve the stock price data processed earlier\n",
    "\n",
    "start_prices_2022 = pd.read_excel('./output-files/start_prices_2022.xlsx')\n",
    "end_prices_2022 = pd.read_excel('./output-files/end_prices_2022.xlsx')\n",
    "start_prices_2023 = pd.read_excel('./output-files/start_prices_2023.xlsx')\n",
    "end_prices_2023 = pd.read_excel('./output-files/end_prices_2023.xlsx')"
   ]
  },
  {
   "cell_type": "code",
   "execution_count": 27,
   "id": "5157ab9d",
   "metadata": {},
   "outputs": [],
   "source": [
    "# Merge the Fscore and Stock Price data tables with df_adr_ref to lookup the Region and Country\n",
    "\n",
    "df_filtered3 = pd.merge(df_filtered3, df_adr_ref[['Symbol', 'Region', 'Country']], left_on='ticker', right_on='Symbol', how='left')\n",
    "df_filtered3 = df_filtered3.drop('Symbol', axis=1)\n",
    "\n",
    "df_2021 = pd.merge(df_2021, df_adr_ref[['Symbol', 'Region', 'Country']], left_on='ticker', right_on='Symbol', how='left')\n",
    "df_2021 = df_2021.drop('Symbol', axis=1)\n",
    "\n",
    "df_2022 = pd.merge(df_2022, df_adr_ref[['Symbol', 'Region', 'Country']], left_on='ticker', right_on='Symbol', how='left')\n",
    "df_2022 = df_2022.drop('Symbol', axis=1)"
   ]
  },
  {
   "cell_type": "code",
   "execution_count": 28,
   "id": "cee2bd20",
   "metadata": {},
   "outputs": [],
   "source": [
    "# Merge the stock data tables\n",
    "\n",
    "end_prices_2022_a = pd.DataFrame(end_prices_2022.iloc[0])\n",
    "end_prices_2023_a = pd.DataFrame(end_prices_2023.iloc[0])\n",
    "start_prices_2022_a = pd.DataFrame(start_prices_2022.iloc[0])\n",
    "start_prices_2023_a = pd.DataFrame(start_prices_2023.iloc[0])\n",
    "\n",
    "# Merge start and end prices for each year for computation of returns\n",
    "merged_2022 = pd.merge(start_prices_2022_a, end_prices_2022_a, left_index=True, right_index=True, how='inner')\n",
    "merged_2023 = pd.merge(start_prices_2023_a, end_prices_2023_a, left_index=True, right_index=True, how='inner')\n",
    "\n",
    "# Compute percentage returns\n",
    "merged_2022['returns_2022'] = (merged_2022['0_y'] / merged_2022['0_x']) - 1\n",
    "merged_2023['returns_2023'] = (merged_2023['0_y'] / merged_2023['0_x']) - 1\n",
    "\n",
    "# Rename columns\n",
    "merged_2022.rename(columns={'0_x': 'start_price', '0_y': 'end_price'}, inplace=True)\n",
    "merged_2023.rename(columns={'0_x': 'start_price', '0_y': 'end_price'}, inplace=True)\n",
    "\n",
    "# Remove the 'ticker' as index and add as a normal column instead\n",
    "merged_2022.reset_index(inplace=True)\n",
    "merged_2023.reset_index(inplace=True)\n",
    "merged_2022.rename(columns={'index': 'ticker'}, inplace=True)\n",
    "merged_2023.rename(columns={'index': 'ticker'}, inplace=True)\n",
    "\n",
    "# Get Fscore, Country and Region data thru joining\n",
    "merged_2022 = pd.merge(merged_2022, df_2021[['ticker', 'Fscore', 'Region', 'Country']], left_on='ticker', right_on='ticker', how='left')\n",
    "merged_2023 = pd.merge(merged_2023, df_2022[['ticker', 'Fscore', 'Region', 'Country']], left_on='ticker', right_on='ticker', how='left')\n",
    "\n",
    "# Create a merged dataframe with combined 2022 and 2023 data\n",
    "merged_2022_2023 = pd.merge(merged_2022, merged_2023, on='ticker', how='inner')\n",
    "merged_2022_2023 = merged_2022_2023.dropna() # drop records with NA values\n",
    "\n",
    "del merged_2022_2023['Country_y'] # delete column, not needed\n",
    "del merged_2022_2023['Region_y'] # delete column, not needed\n",
    "\n",
    "merged_2022_2023.rename(columns={'start_price_x': 'start_price_2022',\n",
    "                                 'end_price_x': 'end_price_2022',\n",
    "                                 'Fscore_x': 'Fscore_2022',\n",
    "                                 'Region_x': 'Region',\n",
    "                                 'Country_x': 'Country',\n",
    "                                 'start_price_y': 'start_price_2023',\n",
    "                                 'end_price_y': 'end_price_2023',\n",
    "                                 'Fscore_y': 'Fscore_2023',\n",
    "                                },\n",
    "                        inplace=True) # rename columns"
   ]
  },
  {
   "cell_type": "code",
   "execution_count": 29,
   "id": "7b78679a",
   "metadata": {
    "scrolled": true
   },
   "outputs": [
    {
     "name": "stdout",
     "output_type": "stream",
     "text": [
      "\n",
      "Table 1. First Few Records of Returns Data\n",
      "\n",
      "  ticker  start_price_2022  end_price_2022  returns_2022  Fscore_2022  \\\n",
      "0  AAALY         33.450001       34.650002      0.035874            7   \n",
      "1  AACAY          3.900000        2.200000     -0.435897            5   \n",
      "2  AAVMY         14.830000       13.820000     -0.068105            6   \n",
      "3   ABEV          2.720000        2.720000      0.000000            6   \n",
      "5  ABTZY         10.485000        9.730000     -0.072008            7   \n",
      "\n",
      "          Region      Country  start_price_2023  end_price_2023  returns_2023  \\\n",
      "0    Dev. Europe      Germany         34.650002       34.650002      0.000000   \n",
      "1     Emrg. Asia        China          2.240000        2.890000      0.290179   \n",
      "2    Dev. Europe  Netherlands         14.570000       14.980000      0.028140   \n",
      "3  Latin America       Brazil          2.590000        2.800000      0.081081   \n",
      "5     Emrg. Asia  Philippines          9.730000        9.320000     -0.042138   \n",
      "\n",
      "   Fscore_2023  \n",
      "0            5  \n",
      "1            2  \n",
      "2            6  \n",
      "3            5  \n",
      "5            5  \n"
     ]
    }
   ],
   "source": [
    "# For historical reference, save the compiled data to an Excel file\n",
    "merged_2022_2023.to_excel('./output-files/compiled_stock_level_info.xlsx', index=False)\n",
    "\n",
    "# View the returns data - first few records\n",
    "print(f\"\\n{'Table 1. First Few Records of Returns Data'}\\n\")\n",
    "print(merged_2022_2023.head())"
   ]
  },
  {
   "cell_type": "markdown",
   "id": "15f1ddd9",
   "metadata": {},
   "source": [
    "For more concise grouping in our summary later, we add Market Group column derived from the data in Region column."
   ]
  },
  {
   "cell_type": "code",
   "execution_count": 30,
   "id": "bfcdb07c",
   "metadata": {},
   "outputs": [],
   "source": [
    "# Add \"Market Group\" column\n",
    "\n",
    "merged_2022_2023['Market Group'] = merged_2022_2023['Region'].replace({'Dev. Europe': 'Non-U.S. Developed Markets',\n",
    "                                     'Dev. Asia': 'Non-U.S. Developed Markets',\n",
    "                                     'Emrg. Asia': 'Non-U.S. Emerging Markets',\n",
    "                                     'Emrg. Europe': 'Non-U.S. Emerging Markets',\n",
    "                                     'Latin America': 'Non-U.S. Emerging Markets',\n",
    "                                     'Middle East / Africa': 'Non-U.S. Emerging Markets'})"
   ]
  },
  {
   "cell_type": "code",
   "execution_count": 31,
   "id": "a1e61f4e",
   "metadata": {},
   "outputs": [
    {
     "name": "stdout",
     "output_type": "stream",
     "text": [
      "\n",
      "Table 2. Number of Countries and ADR Stocks by Market Group\n",
      "\n",
      "                            Count of ADR Stocks  Count of Countries\n",
      "Market Group                                                       \n",
      "Non-U.S. Developed Markets                  402                  23\n",
      "Non-U.S. Emerging Markets                   255                  25\n",
      "Total                                       657                  48\n"
     ]
    }
   ],
   "source": [
    "# Number of Countries and ADRs by Market Group\n",
    "\n",
    "summary_table = pd.pivot_table(merged_2022_2023, values='Country', index='Market Group', aggfunc={'Country': ['count', 'nunique']}, fill_value=0)\n",
    "summary_table.columns = ['Count of ADR Stocks', 'Count of Countries']\n",
    "summary_table.loc['Total'] = summary_table.sum()\n",
    "print(f\"\\n{'Table 2. Number of Countries and ADR Stocks by Market Group'}\\n\")\n",
    "print(summary_table)"
   ]
  },
  {
   "cell_type": "markdown",
   "id": "417f0be7",
   "metadata": {
    "id": "417f0be7"
   },
   "source": [
    "## 4. Measure by Market Group. Compute returns and compare by Region: High-F-score stocks VS Low-F-score stocks VS ADR Stock Index"
   ]
  },
  {
   "cell_type": "markdown",
   "id": "dca8e09a",
   "metadata": {},
   "source": [
    "### 4.1  Set up the ADR stock index and compute for the returns\n",
    "The ADR Stock Index is created using equal-weighted returns of all the ADR stocks in a particular 'market group'. This is used as a baseline when comparing the performance of high-F-score and low-F-score stocks. "
   ]
  },
  {
   "cell_type": "code",
   "execution_count": 32,
   "id": "a59ea0ea",
   "metadata": {},
   "outputs": [],
   "source": [
    "''' Declare what level of information should appear in the rows of the summary tables.\n",
    "For example, use pivot_row='Region' if summary by region is needed,\n",
    "use pivot_row='Market Group' if summary by market group is needed, and so on.\n",
    "'''\n",
    "pivot_row = 'Market Group'"
   ]
  },
  {
   "cell_type": "code",
   "execution_count": 2,
   "id": "3ca51359",
   "metadata": {},
   "outputs": [],
   "source": [
    "# Define a function to calculate equal-weighted returns (Index)\n",
    "\n",
    "def equal_weighted_returns(df):\n",
    "    return df['returns'].mean().mean()"
   ]
  },
  {
   "cell_type": "code",
   "execution_count": 3,
   "id": "c437eacf",
   "metadata": {},
   "outputs": [],
   "source": [
    "# Define a function to calculate other metrics such as precision metrics\n",
    "\n",
    "def calculate_accuracy(df, pivot_row):\n",
    "    # Create a dictionary to store the results\n",
    "    summary_dict = {pivot_row: [], 'Expected Winner': [], 'Actual Winner': [], 'Expected Loser': [], 'Actual Loser': [], 'HF Precision': [], 'LF Precision': [], 'Overall Precision': []}\n",
    "    \n",
    "    # Calculate and add metrics for each pivot_row\n",
    "    for value in df[pivot_row].unique():\n",
    "        value_df = df[df[pivot_row] == value]\n",
    "\n",
    "        # Expected Winner (EW)\n",
    "        ew = len(value_df[(value_df['Fscore'] > 6)])\n",
    "\n",
    "        # Actual Winner (AW)\n",
    "        aw = len(value_df[(value_df['Fscore'] > 6) & (value_df['returns'] > equal_weighted_returns(value_df))])\n",
    "\n",
    "        # Expected Loser (EL)\n",
    "        el = len(value_df[(value_df['Fscore'] < 4)])\n",
    "\n",
    "        # Actual Loser (AL)\n",
    "        al = len(value_df[(value_df['Fscore'] < 4) & (value_df['returns'] < equal_weighted_returns(value_df))])\n",
    "\n",
    "        # Precision\n",
    "        hf_precision = aw / ew\n",
    "        lf_precision = al / el\n",
    "        overall_precision = (aw + al) / (ew + el)\n",
    "\n",
    "        # Add data to the summary dictionary\n",
    "        summary_dict[pivot_row].append(value)\n",
    "        summary_dict['Expected Winner'].append(ew)\n",
    "        summary_dict['Actual Winner'].append(aw)\n",
    "        summary_dict['Expected Loser'].append(el)\n",
    "        summary_dict['Actual Loser'].append(al)\n",
    "        summary_dict['HF Precision'].append(hf_precision)\n",
    "        summary_dict['LF Precision'].append(lf_precision)\n",
    "        summary_dict['Overall Precision'].append(overall_precision)\n",
    "\n",
    "    # Convert lists to Pandas Series before calculating sums\n",
    "    expected_winner_series = pd.Series(summary_dict['Expected Winner'])\n",
    "    actual_winner_series = pd.Series(summary_dict['Actual Winner'])\n",
    "    expected_loser_series = pd.Series(summary_dict['Expected Loser'])\n",
    "    actual_loser_series = pd.Series(summary_dict['Actual Loser'])\n",
    "\n",
    "    # Calculate overall metrics for the entire dataset\n",
    "    overall_ew = expected_winner_series.sum()\n",
    "    overall_aw = actual_winner_series.sum()\n",
    "    overall_el = expected_loser_series.sum()\n",
    "    overall_al = actual_loser_series.sum()\n",
    "    overall_hf_precision = overall_aw / overall_ew\n",
    "    overall_lf_precision = overall_al / overall_el\n",
    "    overall_overall_precision = (overall_aw + overall_al) / (overall_ew + overall_el)\n",
    "\n",
    "    # Add 'Overall' row to the summary dictionary\n",
    "    summary_dict[pivot_row].append('Overall')\n",
    "    summary_dict['Expected Winner'].append(overall_ew)\n",
    "    summary_dict['Actual Winner'].append(overall_aw)\n",
    "    summary_dict['Expected Loser'].append(overall_el)\n",
    "    summary_dict['Actual Loser'].append(overall_al)\n",
    "    summary_dict['HF Precision'].append(overall_hf_precision)\n",
    "    summary_dict['LF Precision'].append(overall_lf_precision)\n",
    "    summary_dict['Overall Precision'].append(overall_overall_precision)\n",
    "\n",
    "    # Create a DataFrame from the summary dictionary\n",
    "    summary = pd.DataFrame(summary_dict)\n",
    "    \n",
    "    return summary"
   ]
  },
  {
   "cell_type": "code",
   "execution_count": 35,
   "id": "cfdc4e99",
   "metadata": {},
   "outputs": [],
   "source": [
    "# Calculate the 2022 Returns by Market Group\n",
    "pivot_row = 'Market Group'\n",
    "\n",
    "# Save 2022 data as 'df'\n",
    "columns_selected = ['ticker', 'returns_2022','Fscore_2022', 'Market Group']\n",
    "df = merged_2022_2023[columns_selected]\n",
    "df.rename(columns={'returns_2022': 'returns',\n",
    "                   'Fscore_2022': 'Fscore'\n",
    "                  }, inplace=True) # rename column\n",
    "\n",
    "# Create a dictionary to store the results\n",
    "summary_dict = {pivot_row: [], 'Index_Returns': [], 'Low_Fscore_Returns': [], 'High_Fscore_Returns': []}\n",
    "\n",
    "# Calculate and add returns for Fscore categories and by pivot_row\n",
    "for value in df[pivot_row].unique():\n",
    "    value_df = df[df[pivot_row] == value]\n",
    "    \n",
    "    # Equal-weighted returns for the region\n",
    "    index_returns = equal_weighted_returns(value_df)\n",
    "    \n",
    "    # Equal-weighted returns for Fscore categories\n",
    "    fscore_0_3_returns = equal_weighted_returns(value_df[(value_df['Fscore'] >= 0) & (value_df['Fscore'] <= 3)])\n",
    "    fscore_4_6_returns = equal_weighted_returns(value_df[(value_df['Fscore'] >= 4) & (value_df['Fscore'] <= 6)])\n",
    "    fscore_7_9_returns = equal_weighted_returns(value_df[(value_df['Fscore'] >= 7) & (value_df['Fscore'] <= 9)])\n",
    " \n",
    "    # Add data to the summary dictionary\n",
    "    summary_dict[pivot_row].append(value)\n",
    "    summary_dict['Index_Returns'].append(index_returns)\n",
    "    summary_dict['Low_Fscore_Returns'].append(fscore_0_3_returns)\n",
    "    summary_dict['High_Fscore_Returns'].append(fscore_7_9_returns)\n",
    "    \n",
    "# Calculate overall returns for the entire dataset (without considering region) for each column\n",
    "overall_returns_index = equal_weighted_returns(df)\n",
    "\n",
    "# Weighted returns for all stocks in the dataset (without considering region)\n",
    "overall_returns_low_fscore = equal_weighted_returns(df[(df['Fscore'] >= 0) & (df['Fscore'] <= 3)])\n",
    "overall_returns_high_fscore = equal_weighted_returns(df[df['Fscore'] >= 7])\n",
    "\n",
    "# Add data to the summary dictionary for overall returns\n",
    "summary_dict[pivot_row].append('Overall')\n",
    "summary_dict['Index_Returns'].append(overall_returns_index)\n",
    "summary_dict['Low_Fscore_Returns'].append(overall_returns_low_fscore)\n",
    "summary_dict['High_Fscore_Returns'].append(overall_returns_high_fscore)\n",
    "    \n",
    "# Create a DataFrame from the summary dictionary\n",
    "summary_df1 = pd.DataFrame(summary_dict)"
   ]
  },
  {
   "cell_type": "code",
   "execution_count": 36,
   "id": "772dce4c",
   "metadata": {},
   "outputs": [],
   "source": [
    "# Calculate the other metrics for 2022 by Region: accuracy, specificity, sensitivity, and balanced accuracy\n",
    "summary_df1_metrics = calculate_accuracy(df, pivot_row)"
   ]
  },
  {
   "cell_type": "code",
   "execution_count": 37,
   "id": "78f30129",
   "metadata": {},
   "outputs": [],
   "source": [
    "# Calculate the 2023 Returns by Region\n",
    "\n",
    "# Save 2023 data as 'df'\n",
    "columns_selected = ['ticker', 'returns_2023','Fscore_2023', 'Market Group']\n",
    "df = merged_2022_2023[columns_selected]\n",
    "df.rename(columns={'returns_2023': 'returns',\n",
    "                   'Fscore_2023': 'Fscore'\n",
    "                  }, inplace=True) # rename column\n",
    "\n",
    "# Create a dictionary to store the results\n",
    "summary_dict = {pivot_row: [], 'Index_Returns': [], 'Low_Fscore_Returns': [], 'High_Fscore_Returns': []}\n",
    "\n",
    "# Calculate and add returns for Fscore categories and by pivot_row\n",
    "for value in df[pivot_row].unique():\n",
    "    value_df = df[df[pivot_row] == value]\n",
    "    \n",
    "    # Equal-weighted returns for the pivot_row\n",
    "    index_returns = equal_weighted_returns(value_df)\n",
    "    \n",
    "    # Equal-weighted returns for Fscore categories\n",
    "    fscore_0_3_returns = equal_weighted_returns(value_df[(value_df['Fscore'] >= 0) & (value_df['Fscore'] <= 3)])\n",
    "    fscore_4_6_returns = equal_weighted_returns(value_df[(value_df['Fscore'] >= 4) & (value_df['Fscore'] <= 6)])\n",
    "    fscore_7_9_returns = equal_weighted_returns(value_df[(value_df['Fscore'] >= 7) & (value_df['Fscore'] <= 9)])\n",
    "      \n",
    "    # Add data to the summary dictionary\n",
    "    summary_dict[pivot_row].append(value)\n",
    "    summary_dict['Index_Returns'].append(index_returns)\n",
    "    summary_dict['Low_Fscore_Returns'].append(fscore_0_3_returns)\n",
    "    summary_dict['High_Fscore_Returns'].append(fscore_7_9_returns)\n",
    "    \n",
    "# Calculate overall returns for the entire dataset (without considering region) for each column\n",
    "overall_returns_index = equal_weighted_returns(df)\n",
    "\n",
    "# Weighted returns for all stocks in the dataset (without considering region)\n",
    "overall_returns_low_fscore = equal_weighted_returns(df[(df['Fscore'] >= 0) & (df['Fscore'] <= 3)])\n",
    "overall_returns_high_fscore = equal_weighted_returns(df[df['Fscore'] >= 7])\n",
    "\n",
    "# Add data to the summary dictionary for overall returns\n",
    "summary_dict[pivot_row].append('Overall')\n",
    "summary_dict['Index_Returns'].append(overall_returns_index)\n",
    "summary_dict['Low_Fscore_Returns'].append(overall_returns_low_fscore)\n",
    "summary_dict['High_Fscore_Returns'].append(overall_returns_high_fscore)\n",
    "\n",
    "# Create a DataFrame from the summary dictionary\n",
    "summary_df2 = pd.DataFrame(summary_dict)"
   ]
  },
  {
   "cell_type": "code",
   "execution_count": 38,
   "id": "256e69c5",
   "metadata": {},
   "outputs": [],
   "source": [
    "# Calculate the other metrics for 2023 by Region: accuracy, specificity, sensitivity, and balanced accuracy\n",
    "summary_df2_metrics = calculate_accuracy(df, pivot_row)"
   ]
  },
  {
   "cell_type": "markdown",
   "id": "73b6d817",
   "metadata": {},
   "source": [
    "### 4.2  Compare the results: High-F-score stocks VS Low-F-score stocks VS ADR Stock Index by region"
   ]
  },
  {
   "cell_type": "code",
   "execution_count": 62,
   "id": "a7b8c48a",
   "metadata": {
    "scrolled": true
   },
   "outputs": [
    {
     "name": "stdout",
     "output_type": "stream",
     "text": [
      "\n",
      "Table 3. 2022 Returns Summary by Market Group\n",
      "\n",
      "                 Market Group  Index_Returns  Low_Fscore_Returns  \\\n",
      "0  Non-U.S. Developed Markets      -0.174058           -0.286524   \n",
      "1   Non-U.S. Emerging Markets      -0.086448           -0.218753   \n",
      "2                     Overall      -0.141157           -0.256965   \n",
      "\n",
      "   High_Fscore_Returns  \n",
      "0            -0.143242  \n",
      "1            -0.073655  \n",
      "2            -0.122183  \n"
     ]
    }
   ],
   "source": [
    "# Print the 2022 returns summary\n",
    "print(f\"\\n{'Table 3. 2022 Returns Summary by Market Group'}\\n\")\n",
    "print(summary_df1)"
   ]
  },
  {
   "cell_type": "markdown",
   "id": "dcb42efd",
   "metadata": {},
   "source": [
    "Based on the results for 2022 in Table 3, the overall performance of high-F-score stocks is better than both the benchmark and the low-F-score stock returns. High-F-score stocks outperform the low-F-score stocks by 13.48% and the benchmark by 1.90%. Low-F-score stocks underperform by 11.58% below the benchmark."
   ]
  },
  {
   "cell_type": "code",
   "execution_count": 63,
   "id": "e5eab102",
   "metadata": {
    "scrolled": false
   },
   "outputs": [
    {
     "name": "stdout",
     "output_type": "stream",
     "text": [
      "\n",
      "Table 4. 2023 Returns Summary by Market Group\n",
      "\n",
      "                 Market Group  Index_Returns  Low_Fscore_Returns  \\\n",
      "0  Non-U.S. Developed Markets       0.059156           -0.013127   \n",
      "1   Non-U.S. Emerging Markets       0.074427            0.095927   \n",
      "2                     Overall       0.064891            0.031204   \n",
      "\n",
      "   High_Fscore_Returns  \n",
      "0             0.135085  \n",
      "1             0.163673  \n",
      "2             0.143644  \n"
     ]
    }
   ],
   "source": [
    "# Print the 2023 returns summary\n",
    "print(f\"\\n{'Table 4. 2023 Returns Summary by Market Group'}\\n\")\n",
    "print(summary_df2)"
   ]
  },
  {
   "cell_type": "markdown",
   "id": "7019c794",
   "metadata": {},
   "source": [
    "Results for 2023 in Table 4 show again that high-F-score stocks perform better than both the benchmark and the low-F-score stocks. High-F-score stocks outperform the low-F-score stocks by 11.24% and the benchmark by 7.88%. Low-F-score stocks from Non-U.S. Emerging Markets outperform the benchmark by 2.15% while low-F-score stocks from Non-U.S. Developed Markets underperform by 7.23% below the benchmark. Overall, low-F-score stocks underperform by 3.37% below the benchmark.\n"
   ]
  },
  {
   "cell_type": "code",
   "execution_count": 64,
   "id": "d53f9f72",
   "metadata": {},
   "outputs": [
    {
     "name": "stdout",
     "output_type": "stream",
     "text": [
      "\n",
      "Table 5. 2022 Metrics Summary by Market Group\n",
      "\n",
      "                 Market Group  Expected Winner  Actual Winner  Expected Loser  \\\n",
      "0  Non-U.S. Developed Markets              159             85              53   \n",
      "1   Non-U.S. Emerging Markets               69             32              41   \n",
      "2                     Overall              228            117              94   \n",
      "\n",
      "   Actual Loser  HF Precision  LF Precision  Overall Precision  \n",
      "0            33      0.534591      0.622642           0.556604  \n",
      "1            25      0.463768      0.609756           0.518182  \n",
      "2            58      0.513158      0.617021           0.543478  \n"
     ]
    }
   ],
   "source": [
    "# Print the 2022 Accuracy Metrics\n",
    "print(f\"\\n{'Table 5. 2022 Metrics Summary by Market Group'}\\n\")\n",
    "print(summary_df1_metrics)"
   ]
  },
  {
   "cell_type": "code",
   "execution_count": 65,
   "id": "6bc8617f",
   "metadata": {
    "scrolled": true
   },
   "outputs": [
    {
     "name": "stdout",
     "output_type": "stream",
     "text": [
      "\n",
      "Table 6. 2023 Metrics Summary by Market Group\n",
      "\n",
      "                 Market Group  Expected Winner  Actual Winner  Expected Loser  \\\n",
      "0  Non-U.S. Developed Markets              117             63              73   \n",
      "1   Non-U.S. Emerging Markets               50             25              50   \n",
      "2                     Overall              167             88             123   \n",
      "\n",
      "   Actual Loser  HF Precision  LF Precision  Overall Precision  \n",
      "0            50      0.538462      0.684932           0.594737  \n",
      "1            37      0.500000      0.740000           0.620000  \n",
      "2            87      0.526946      0.707317           0.603448  \n"
     ]
    }
   ],
   "source": [
    "# Print the 2023 Accuracy Metrics\n",
    "print(f\"\\n{'Table 6. 2023 Metrics Summary by Market Group'}\\n\")\n",
    "print(summary_df2_metrics)"
   ]
  },
  {
   "cell_type": "markdown",
   "id": "29924433",
   "metadata": {},
   "source": [
    "Accuracy metrics are presented in Table B5 and Table B6. All precision metrics for 2023 are higher than those of 2022. The most noteworthy is the increase in Low F-score Precision for Non-U.S. Emerging Markets by about 13% in 2023 – from 60.98% in 2022 to 74.00% in 2023. Consequently, the overall Low F-score Precision increased by about 9% in 2023 – from 61.70% in 2022 to 70.73% in 2023."
   ]
  },
  {
   "cell_type": "markdown",
   "id": "62ffd21b",
   "metadata": {
    "id": "417f0be7"
   },
   "source": [
    "## 5. Reproducing the results based on January 18, 2024 original data"
   ]
  },
  {
   "cell_type": "markdown",
   "id": "57f45542",
   "metadata": {},
   "source": [
    "Stock prices and financial data are extracted via the publicly available Yahoo Finance APIs and subject to both the availability and accuracy limitations as stated in Section 8 (Warranties and Disclaimers) of the Yahoo Terms of Service [3]. To keep data consistency in this research, only stocks with complete information are included in our stock universe. This ensures that 2021 and 2022 Piotroski F-scores can be calculated and compared against 2022 and 2023 returns, respectively."
   ]
  },
  {
   "cell_type": "markdown",
   "id": "04102443",
   "metadata": {},
   "source": [
    "Scripts in Section 2 through Section 4 all use live data. Due to potential inconsistency of data from unsuccessful fetches, delisting, and the availability and accuracy limitations mentioned above, pre-downloaded data from January 18, 2024 pull are saved and used in order to reproduce the results in this section. This does not change the general and overall results of the research."
   ]
  },
  {
   "cell_type": "markdown",
   "id": "11345002",
   "metadata": {},
   "source": [
    "### 5.1  Retrieve pre-downloaded data\n",
    "Retrieve the January 18, 2024 pre-downloaded data."
   ]
  },
  {
   "cell_type": "code",
   "execution_count": 4,
   "id": "7b9de439",
   "metadata": {},
   "outputs": [],
   "source": [
    "# Retrieve the Fscore Excel data processed on January 18, 2024\n",
    "\n",
    "fscore_file_path = './output-files/01-18-2024/adr_piotroskFscores_2021_2022.xlsx'\n",
    "fscore_2021_file_path = './output-files/01-18-2024/adr_piotroskFscores_2021.xlsx'\n",
    "fscore_2022_file_path = './output-files/01-18-2024/adr_piotroskiFscores_2022.xlsx'\n",
    "adr_universe_file_path = './adr-universe/dr_universe.xlsx'\n",
    "\n",
    "df_filtered3 = pd.read_excel(fscore_file_path)\n",
    "df_2021 = pd.read_excel(fscore_2021_file_path)\n",
    "df_2022 = pd.read_excel(fscore_2022_file_path)\n",
    "df_adr_ref = pd.read_excel(adr_universe_file_path)"
   ]
  },
  {
   "cell_type": "code",
   "execution_count": 5,
   "id": "fdbdfcfc",
   "metadata": {},
   "outputs": [],
   "source": [
    "# Retrieve the stock price data processed on January 18, 2024\n",
    "\n",
    "start_prices_2022 = pd.read_excel('./output-files/01-18-2024/start_prices_2022.xlsx')\n",
    "end_prices_2022 = pd.read_excel('./output-files/01-18-2024/end_prices_2022.xlsx')\n",
    "start_prices_2023 = pd.read_excel('./output-files/01-18-2024/start_prices_2023.xlsx')\n",
    "end_prices_2023 = pd.read_excel('./output-files/01-18-2024/end_prices_2023.xlsx')"
   ]
  },
  {
   "cell_type": "code",
   "execution_count": 6,
   "id": "425729b8",
   "metadata": {},
   "outputs": [],
   "source": [
    "# Merge the Fscore and Stock Price data tables with df_adr_ref to lookup the Region and Country (data as of January 18, 2024)\n",
    "\n",
    "df_filtered3a = pd.merge(df_filtered3, df_adr_ref[['Symbol', 'Region', 'Country']], left_on='ticker', right_on='Symbol', how='left')\n",
    "df_filtered3 = df_filtered3a.drop('Symbol', axis=1)\n",
    "\n",
    "df_2021 = pd.merge(df_2021, df_adr_ref[['Symbol', 'Region', 'Country']], left_on='ticker', right_on='Symbol', how='left')\n",
    "df_2021 = df_2021.drop('Symbol', axis=1)\n",
    "\n",
    "df_2022 = pd.merge(df_2022, df_adr_ref[['Symbol', 'Region', 'Country']], left_on='ticker', right_on='Symbol', how='left')\n",
    "df_2022 = df_2022.drop('Symbol', axis=1)"
   ]
  },
  {
   "cell_type": "code",
   "execution_count": 7,
   "id": "dee2bd20",
   "metadata": {},
   "outputs": [],
   "source": [
    "# Merge the stock data tables (data as of January 18, 2024)\n",
    "\n",
    "end_prices_2022_b = pd.DataFrame(end_prices_2022.iloc[0])\n",
    "end_prices_2023_b = pd.DataFrame(end_prices_2023.iloc[0])\n",
    "start_prices_2022_b = pd.DataFrame(start_prices_2022.iloc[0])\n",
    "start_prices_2023_b = pd.DataFrame(start_prices_2023.iloc[0])\n",
    "\n",
    "# Merge start and end prices for each year for computation of returns\n",
    "merged_2022 = pd.merge(start_prices_2022_b, end_prices_2022_b, left_index=True, right_index=True, how='inner')\n",
    "merged_2023 = pd.merge(start_prices_2023_b, end_prices_2023_b, left_index=True, right_index=True, how='inner')\n",
    "\n",
    "# Compute percentage returns\n",
    "merged_2022['returns_2022'] = (merged_2022['0_y'] / merged_2022['0_x']) - 1\n",
    "merged_2023['returns_2023'] = (merged_2023['0_y'] / merged_2023['0_x']) - 1\n",
    "\n",
    "# Rename columns\n",
    "merged_2022.rename(columns={'0_x': 'start_price', '0_y': 'end_price'}, inplace=True)\n",
    "merged_2023.rename(columns={'0_x': 'start_price', '0_y': 'end_price'}, inplace=True)\n",
    "\n",
    "# Remove the 'ticker' as index and add as a normal column instead\n",
    "merged_2022.reset_index(inplace=True)\n",
    "merged_2023.reset_index(inplace=True)\n",
    "merged_2022.rename(columns={'index': 'ticker'}, inplace=True)\n",
    "merged_2023.rename(columns={'index': 'ticker'}, inplace=True)\n",
    "\n",
    "# Get Fscore, Country and Region data thru joining\n",
    "merged_2022 = pd.merge(merged_2022, df_2021[['ticker', 'Fscore', 'Region', 'Country']], left_on='ticker', right_on='ticker', how='left')\n",
    "merged_2023 = pd.merge(merged_2023, df_2022[['ticker', 'Fscore', 'Region', 'Country']], left_on='ticker', right_on='ticker', how='left')\n",
    "\n",
    "# Create a merged dataframe with combined 2022 and 2023 data\n",
    "merged_2022_2023 = pd.merge(merged_2022, merged_2023, on='ticker', how='inner')\n",
    "merged_2022_2023 = merged_2022_2023.dropna() # drop records with NA values\n",
    "\n",
    "del merged_2022_2023['Country_y'] # delete column, not needed\n",
    "del merged_2022_2023['Region_y'] # delete column, not needed\n",
    "\n",
    "merged_2022_2023.rename(columns={'start_price_x': 'start_price_2022',\n",
    "                                 'end_price_x': 'end_price_2022',\n",
    "                                 'Fscore_x': 'Fscore_2022',\n",
    "                                 'Region_x': 'Region',\n",
    "                                 'Country_x': 'Country',\n",
    "                                 'start_price_y': 'start_price_2023',\n",
    "                                 'end_price_y': 'end_price_2023',\n",
    "                                 'Fscore_y': 'Fscore_2023',\n",
    "                                },\n",
    "                        inplace=True) # rename columns"
   ]
  },
  {
   "cell_type": "code",
   "execution_count": 8,
   "id": "7b78679b",
   "metadata": {
    "scrolled": true
   },
   "outputs": [
    {
     "name": "stdout",
     "output_type": "stream",
     "text": [
      "\n",
      "Table B1. First Few Records of Returns Data\n",
      "\n",
      "  ticker  start_price_2022  end_price_2022  returns_2022  Fscore_2022  \\\n",
      "0  AAALY         33.450001       34.650002      0.035874            7   \n",
      "1  AACAY          3.900000        2.200000     -0.435897            5   \n",
      "2  AAGIY         40.650002       44.430000      0.092989            4   \n",
      "3  AAVMY         14.830000       13.820000     -0.068105            6   \n",
      "4  ABDBY          3.550000        4.040000      0.138028            0   \n",
      "\n",
      "        Region      Country  start_price_2023  end_price_2023  returns_2023  \\\n",
      "0  Dev. Europe      Germany         34.650002       34.650002      0.000000   \n",
      "1   Emrg. Asia        China          2.240000        2.890000      0.290179   \n",
      "2    Dev. Asia    Hong Kong         45.799999       34.669998     -0.243013   \n",
      "3  Dev. Europe  Netherlands         14.570000       14.980000      0.028140   \n",
      "4  Dev. Europe      Denmark          4.040000        4.040000      0.000000   \n",
      "\n",
      "   Fscore_2023  \n",
      "0            5  \n",
      "1            2  \n",
      "2            4  \n",
      "3            6  \n",
      "4            0  \n"
     ]
    }
   ],
   "source": [
    "# View the returns data - first few records (data as of January 18, 2024)\n",
    "print(f\"\\n{'Table B1. First Few Records of Returns Data'}\\n\")\n",
    "print(merged_2022_2023.head())"
   ]
  },
  {
   "cell_type": "markdown",
   "id": "15f1dde9",
   "metadata": {},
   "source": [
    "For more concise grouping in our summary later, we add Market Group column derived from the data in Region column."
   ]
  },
  {
   "cell_type": "code",
   "execution_count": 9,
   "id": "bfcdb07d",
   "metadata": {},
   "outputs": [
    {
     "name": "stdout",
     "output_type": "stream",
     "text": [
      "\n",
      "Table B2. Number of Countries and ADR Stocks by Market Group\n",
      "\n",
      "                            Count of ADR Stocks  Count of Countries\n",
      "Market Group                                                       \n",
      "Non-U.S. Developed Markets                  429                  24\n",
      "Non-U.S. Emerging Markets                   258                  25\n",
      "Total                                       687                  49\n"
     ]
    }
   ],
   "source": [
    "# Add \"Market Group\" column (data as of January 18, 2024)\n",
    "merged_2022_2023['Market Group'] = merged_2022_2023['Region'].replace({'Dev. Europe': 'Non-U.S. Developed Markets',\n",
    "                                     'Dev. Asia': 'Non-U.S. Developed Markets',\n",
    "                                     'Emrg. Asia': 'Non-U.S. Emerging Markets',\n",
    "                                     'Emrg. Europe': 'Non-U.S. Emerging Markets',\n",
    "                                     'Latin America': 'Non-U.S. Emerging Markets',\n",
    "                                     'Middle East / Africa': 'Non-U.S. Emerging Markets'})\n",
    "\n",
    "# Create summary of number of Countries and ADRs by Market Group (data as of January 18, 2024)\n",
    "summary_table = pd.pivot_table(merged_2022_2023, values='Country', index='Market Group', aggfunc={'Country': ['count', 'nunique']}, fill_value=0)\n",
    "summary_table.columns = ['Count of ADR Stocks', 'Count of Countries']\n",
    "summary_table.loc['Total'] = summary_table.sum()\n",
    "print(f\"\\n{'Table B2. Number of Countries and ADR Stocks by Market Group'}\\n\")\n",
    "print(summary_table)"
   ]
  },
  {
   "cell_type": "markdown",
   "id": "6fdb8a7c",
   "metadata": {},
   "source": [
    "### 5.2  Set up the ADR stock index and compute for the returns\n",
    "The ADR Stock Index is created using equal-weighted returns of all the ADR stocks in a particular 'market group'. This is used as a baseline when comparing the performance of high-F-score and low-F-score stocks. "
   ]
  },
  {
   "cell_type": "code",
   "execution_count": 18,
   "id": "0f4cdde0",
   "metadata": {},
   "outputs": [],
   "source": [
    "# Calculate the 2022 Returns by Market Group (data as of January 18, 2024)\n",
    "pivot_row = 'Market Group'\n",
    "\n",
    "# Save 2022 data as 'df'\n",
    "columns_selected = ['ticker', 'returns_2022','Fscore_2022', 'Market Group']\n",
    "df = merged_2022_2023[columns_selected]\n",
    "df.rename(columns={'returns_2022': 'returns',\n",
    "                   'Fscore_2022': 'Fscore'\n",
    "                  }, inplace=True) # rename column\n",
    "\n",
    "# Create a dictionary to store the results\n",
    "summary_dict = {pivot_row: [], 'Index_Returns': [], 'Low_Fscore_Returns': [], 'High_Fscore_Returns': []}\n",
    "\n",
    "# Calculate and add returns for Fscore categories and by pivot_row\n",
    "for value in df[pivot_row].unique():\n",
    "    value_df = df[df[pivot_row] == value]\n",
    "    \n",
    "    # Equal-weighted returns for the region\n",
    "    index_returns = equal_weighted_returns(value_df)\n",
    "    \n",
    "    # Equal-weighted returns for Fscore categories\n",
    "    fscore_0_3_returns = equal_weighted_returns(value_df[(value_df['Fscore'] >= 0) & (value_df['Fscore'] <= 3)])\n",
    "    fscore_4_6_returns = equal_weighted_returns(value_df[(value_df['Fscore'] >= 4) & (value_df['Fscore'] <= 6)])\n",
    "    fscore_7_9_returns = equal_weighted_returns(value_df[(value_df['Fscore'] >= 7) & (value_df['Fscore'] <= 9)])\n",
    " \n",
    "    # Add data to the summary dictionary\n",
    "    summary_dict[pivot_row].append(value)\n",
    "    summary_dict['Index_Returns'].append(index_returns)\n",
    "    summary_dict['Low_Fscore_Returns'].append(fscore_0_3_returns)\n",
    "    summary_dict['High_Fscore_Returns'].append(fscore_7_9_returns)\n",
    "    \n",
    "# Calculate overall returns for the entire dataset (without considering region) for each column\n",
    "overall_returns_index = equal_weighted_returns(df)\n",
    "\n",
    "# Weighted returns for all stocks in the dataset (without considering region)\n",
    "overall_returns_low_fscore = equal_weighted_returns(df[(df['Fscore'] >= 0) & (df['Fscore'] <= 3)])\n",
    "overall_returns_high_fscore = equal_weighted_returns(df[df['Fscore'] >= 7])\n",
    "\n",
    "# Add data to the summary dictionary for overall returns\n",
    "summary_dict[pivot_row].append('Overall')\n",
    "summary_dict['Index_Returns'].append(overall_returns_index)\n",
    "summary_dict['Low_Fscore_Returns'].append(overall_returns_low_fscore)\n",
    "summary_dict['High_Fscore_Returns'].append(overall_returns_high_fscore)\n",
    "    \n",
    "# Create a DataFrame from the summary dictionary\n",
    "summary_df1a = pd.DataFrame(summary_dict)"
   ]
  },
  {
   "cell_type": "code",
   "execution_count": 19,
   "id": "6545736a",
   "metadata": {},
   "outputs": [],
   "source": [
    "# Calculate the other metrics for 2022 by Region: accuracy, specificity, sensitivity, and balanced accuracy (data as of January 18, 2024)\n",
    "summary_df1a_metrics = calculate_accuracy(df, pivot_row)"
   ]
  },
  {
   "cell_type": "code",
   "execution_count": 20,
   "id": "31fb2730",
   "metadata": {},
   "outputs": [],
   "source": [
    "# Calculate the 2023 Returns by Market Group (data as of January 18, 2024)\n",
    "\n",
    "# Save 2023 data as 'df'\n",
    "columns_selected = ['ticker', 'returns_2023','Fscore_2023', 'Market Group']\n",
    "df = merged_2022_2023[columns_selected]\n",
    "df.rename(columns={'returns_2023': 'returns',\n",
    "                   'Fscore_2023': 'Fscore'\n",
    "                  }, inplace=True) # rename column\n",
    "\n",
    "# Create a dictionary to store the results\n",
    "summary_dict = {pivot_row: [], 'Index_Returns': [], 'Low_Fscore_Returns': [], 'High_Fscore_Returns': []}\n",
    "\n",
    "# Calculate and add returns for Fscore categories and by pivot_row\n",
    "for value in df[pivot_row].unique():\n",
    "    value_df = df[df[pivot_row] == value]\n",
    "    \n",
    "    # Equal-weighted returns for the pivot_row\n",
    "    index_returns = equal_weighted_returns(value_df)\n",
    "    \n",
    "    # Equal-weighted returns for Fscore categories\n",
    "    fscore_0_3_returns = equal_weighted_returns(value_df[(value_df['Fscore'] >= 0) & (value_df['Fscore'] <= 3)])\n",
    "    fscore_4_6_returns = equal_weighted_returns(value_df[(value_df['Fscore'] >= 4) & (value_df['Fscore'] <= 6)])\n",
    "    fscore_7_9_returns = equal_weighted_returns(value_df[(value_df['Fscore'] >= 7) & (value_df['Fscore'] <= 9)])\n",
    "      \n",
    "    # Add data to the summary dictionary\n",
    "    summary_dict[pivot_row].append(value)\n",
    "    summary_dict['Index_Returns'].append(index_returns)\n",
    "    summary_dict['Low_Fscore_Returns'].append(fscore_0_3_returns)\n",
    "    summary_dict['High_Fscore_Returns'].append(fscore_7_9_returns)\n",
    "    \n",
    "# Calculate overall returns for the entire dataset (without considering region) for each column\n",
    "overall_returns_index = equal_weighted_returns(df)\n",
    "\n",
    "# Weighted returns for all stocks in the dataset (without considering region)\n",
    "overall_returns_low_fscore = equal_weighted_returns(df[(df['Fscore'] >= 0) & (df['Fscore'] <= 3)])\n",
    "overall_returns_high_fscore = equal_weighted_returns(df[df['Fscore'] >= 7])\n",
    "\n",
    "# Add data to the summary dictionary for overall returns\n",
    "summary_dict[pivot_row].append('Overall')\n",
    "summary_dict['Index_Returns'].append(overall_returns_index)\n",
    "summary_dict['Low_Fscore_Returns'].append(overall_returns_low_fscore)\n",
    "summary_dict['High_Fscore_Returns'].append(overall_returns_high_fscore)\n",
    "\n",
    "# Create a DataFrame from the summary dictionary\n",
    "summary_df2a = pd.DataFrame(summary_dict)"
   ]
  },
  {
   "cell_type": "code",
   "execution_count": 21,
   "id": "e33c7851",
   "metadata": {},
   "outputs": [],
   "source": [
    "# Calculate the other metrics for 2023 by Region: accuracy, specificity, sensitivity, and balanced accuracy (data as of January 18, 2024)\n",
    "summary_df2a_metrics = calculate_accuracy(df, pivot_row)"
   ]
  },
  {
   "cell_type": "markdown",
   "id": "ad841d89",
   "metadata": {},
   "source": [
    "### 5.3  Compare the results: High-F-score stocks VS Low-F-score stocks VS ADR Stock Index by region"
   ]
  },
  {
   "cell_type": "code",
   "execution_count": 22,
   "id": "aa6773be",
   "metadata": {},
   "outputs": [
    {
     "name": "stdout",
     "output_type": "stream",
     "text": [
      "\n",
      "Table B3. 2022 Returns Summary by Market Group\n",
      "\n",
      "                 Market Group  Index_Returns  Low_Fscore_Returns  \\\n",
      "0  Non-U.S. Developed Markets      -0.174058           -0.286524   \n",
      "1   Non-U.S. Emerging Markets      -0.086448           -0.218753   \n",
      "2                     Overall      -0.141157           -0.256965   \n",
      "\n",
      "   High_Fscore_Returns  \n",
      "0            -0.143242  \n",
      "1            -0.073655  \n",
      "2            -0.122183  \n"
     ]
    }
   ],
   "source": [
    "# Print the 2022 returns summary (data as of January 18, 2024)\n",
    "print(f\"\\n{'Table B3. 2022 Returns Summary by Market Group'}\\n\")\n",
    "print(summary_df1a)"
   ]
  },
  {
   "cell_type": "markdown",
   "id": "dcb42eff",
   "metadata": {},
   "source": [
    "Based on the results for 2022 in Table 3, the overall performance of high-F-score stocks is better than both the benchmark and the low-F-score stock returns. High-F-score stocks outperform the low-F-score stocks by 13.48% and the benchmark by 1.90%. Low-F-score stocks underperform by 11.58% below the benchmark."
   ]
  },
  {
   "cell_type": "code",
   "execution_count": 23,
   "id": "505ed5ff",
   "metadata": {},
   "outputs": [
    {
     "name": "stdout",
     "output_type": "stream",
     "text": [
      "\n",
      "Table B4. 2023 Returns Summary by Market Group\n",
      "\n",
      "                 Market Group  Index_Returns  Low_Fscore_Returns  \\\n",
      "0  Non-U.S. Developed Markets       0.059156           -0.013127   \n",
      "1   Non-U.S. Emerging Markets       0.074427            0.095927   \n",
      "2                     Overall       0.064891            0.031204   \n",
      "\n",
      "   High_Fscore_Returns  \n",
      "0             0.135085  \n",
      "1             0.163673  \n",
      "2             0.143644  \n"
     ]
    }
   ],
   "source": [
    "# Print the 2023 returns summary (data as of January 18, 2024)\n",
    "print(f\"\\n{'Table B4. 2023 Returns Summary by Market Group'}\\n\")\n",
    "print(summary_df2a)"
   ]
  },
  {
   "cell_type": "markdown",
   "id": "7019d794",
   "metadata": {},
   "source": [
    "Results for 2023 in Table 4 show again that high-F-score stocks perform better than both the benchmark and the low-F-score stocks. High-F-score stocks outperform the low-F-score stocks by 11.24% and the benchmark by 7.88%. Low-F-score stocks from Non-U.S. Emerging Markets outperform the benchmark by 2.15% while low-F-score stocks from Non-U.S. Developed Markets underperform by 7.23% below the benchmark. Overall, low-F-score stocks underperform by 3.37% below the benchmark.\n"
   ]
  },
  {
   "cell_type": "code",
   "execution_count": 24,
   "id": "35e3497f",
   "metadata": {},
   "outputs": [
    {
     "name": "stdout",
     "output_type": "stream",
     "text": [
      "\n",
      "Table B5. 2022 Metrics Summary by Market Group\n",
      "\n",
      "                 Market Group  Expected Winner  Actual Winner  Expected Loser  \\\n",
      "0  Non-U.S. Developed Markets              159             85              53   \n",
      "1   Non-U.S. Emerging Markets               69             32              41   \n",
      "2                     Overall              228            117              94   \n",
      "\n",
      "   Actual Loser  HF Precision  LF Precision  Overall Precision  \n",
      "0            33      0.534591      0.622642           0.556604  \n",
      "1            25      0.463768      0.609756           0.518182  \n",
      "2            58      0.513158      0.617021           0.543478  \n"
     ]
    }
   ],
   "source": [
    "# Print the 2022 Accuracy Metrics (data as of January 18, 2024)\n",
    "print(f\"\\n{'Table B5. 2022 Metrics Summary by Market Group'}\\n\")\n",
    "print(summary_df1a_metrics)"
   ]
  },
  {
   "cell_type": "code",
   "execution_count": 25,
   "id": "2e355cc7",
   "metadata": {},
   "outputs": [
    {
     "name": "stdout",
     "output_type": "stream",
     "text": [
      "\n",
      "Table B6. 2023 Metrics Summary by Market Group\n",
      "\n",
      "                 Market Group  Expected Winner  Actual Winner  Expected Loser  \\\n",
      "0  Non-U.S. Developed Markets              117             63              73   \n",
      "1   Non-U.S. Emerging Markets               50             25              50   \n",
      "2                     Overall              167             88             123   \n",
      "\n",
      "   Actual Loser  HF Precision  LF Precision  Overall Precision  \n",
      "0            50      0.538462      0.684932           0.594737  \n",
      "1            37      0.500000      0.740000           0.620000  \n",
      "2            87      0.526946      0.707317           0.603448  \n"
     ]
    }
   ],
   "source": [
    "# Print the 2023 Accuracy Metrics (data as of January 18, 2024)\n",
    "print(f\"\\n{'Table B6. 2023 Metrics Summary by Market Group'}\\n\")\n",
    "print(summary_df2a_metrics)"
   ]
  },
  {
   "cell_type": "markdown",
   "id": "ec11bd39",
   "metadata": {},
   "source": [
    "Accuracy metrics are presented in Table B5 and Table B6. All precision metrics for 2023 are higher than those of 2022. The most noteworthy is the increase in Low F-score Precision for Non-U.S. Emerging Markets by about 13% in 2023 – from 60.98% in 2022 to 74.00% in 2023. Consequently, the overall Low F-score Precision increased by about 9% in 2023 – from 61.70% in 2022 to 70.73% in 2023."
   ]
  },
  {
   "cell_type": "markdown",
   "id": "e08aff3f",
   "metadata": {},
   "source": [
    "Based on the contrasting performances in benchmark returns as shown in Table B3 and Table B4, 2022 and 2023 can be considered as two periods with different market conditions. 2022 can be considered a period under a ‘bad’ market condition and 2023 a period under a relatively ‘good’ market condition. Disregarding the part of return metrics affected by outliers, the return metrics indicate that the F-score classifier is a better predictor under good market conditions. Precision metrics support this, as shown by the higher precision values in 2023 compared to 2022."
   ]
  },
  {
   "cell_type": "markdown",
   "id": "3066dfdb",
   "metadata": {},
   "source": [
    "The return-based results in Table B3 and Table B4 show that high F-score stocks outperform low F-score stocks by about 10%, which is consistent between Non-U.S. Emerging Markets and Non-U.S. Developed Markets. High F-score stocks outperform the benchmark by 1.90% in 2022 and by 7.88% in 2023. High F-score stocks from Non-U.S. Emerging Markets outperform the high F-score stocks from Non-U.S. Developed Markets by 1.80% in 2022. On the other hand, high F-score stocks from Non-U.S. Developed Markets outperform the high F-score stocks Non-U.S. Emerging Markets by 1.33% in 2023. The better performance of high-F-score stocks against the benchmark supports the results from previous studies that Piotroski F-score can be an effective tool in generating Alpha."
   ]
  },
  {
   "cell_type": "markdown",
   "id": "62afdad3",
   "metadata": {},
   "source": [
    "The precision results show that High F-score Precision (ability to predict winner stocks) is slightly better in Non-U.S. Developed Markets than Non-U.S. Emerging Markets in both years. Low F-score Precision (ability to predict loser stocks) performs better in Non-U.S. Developed Markets in 2022, but then reverses and performs better in Non-U.S. Emerging Markets in 2023. Overall, both returns and precision results are generally uniform between the two market groups especially if both 2022 and 2023 results are considered altogether."
   ]
  },
  {
   "cell_type": "markdown",
   "id": "d63a7743",
   "metadata": {},
   "source": [
    "## 6. Conclusion"
   ]
  },
  {
   "cell_type": "markdown",
   "id": "258bc4c9",
   "metadata": {},
   "source": [
    "We have tested Piotroski F-score on ADRs using 687 stocks (429 stocks from developed markets and 258 from emerging markets) from 49 different non-U.S. home countries. Portfolio-level return rates show that high-F-score stocks outperform the low-F-score stocks by about 10% and the benchmark by about 3%. These are consistent or close to the results from the existing literature on Piotroski F-score where such numbers are considered significant. Excluding some outliers, we can generalize that the F-score’s return-based performance is better during good market conditions. The F-score still leads to positive Alpha during bad market conditions but with noticeable decline."
   ]
  },
  {
   "cell_type": "markdown",
   "id": "295ca256",
   "metadata": {},
   "source": [
    "Information loss is a drawback of using portfolio-level returns. To augment our performance metrics, precision is used as a complementary performance measure. Unlike return rates, precision is not affected by outliers. It offers more transparency on the strength and weakness of the F-score in predicting winner and loser stocks. Another noteworthy result presented is that the F-score is better in predicting ‘loser’ stocks than in predicting ‘winner’ stocks. The overall precision values show that F-score is not an exceptional classifier, barely reaching 70% precision. The F-score being ‘not exceptional’ is not a popular opinion or finding among existing literature. In the world of classifiers where accuracy metrics are predominantly used, 70% is not an impressive feat. However, this is not a basis to disregard Piotroski F-score as a stock selection criterion, considering its capability to generate Alpha. Instead, the better strategy is to ensure that it is paired with other methods in order to establish stronger selection criteria."
   ]
  },
  {
   "cell_type": "markdown",
   "id": "2249e0c3",
   "metadata": {},
   "source": [
    "## References"
   ]
  },
  {
   "cell_type": "markdown",
   "id": "e4192d0d",
   "metadata": {},
   "source": [
    "[1]  J.P. Morgan Depositary Receipts. Depositary Receipt (DR) Universe. J.P. Morgan Chase & Co., 2024. Retrieved from https://adr.com/dr/drdirectory/drUniverse. Accessed 11 January 2024.\n",
    "\n",
    "[2]  Piotroski, J. D. Value investing: The Use of Historical Financial Statement Information to Separate Winners from Losers. Journal of Accounting Research, 2000. Retrieved from https://gm10b7le2-mp01-y-https-www-proquest-com.proxy.lirn.net/scholarly-journals/value-investing-use-historical-financial/docview/206723328/se-2. Accessed 10 January 2024.\n",
    "\n",
    "[3]  Yahoo Inc. Yahoo Terms of Service. Yahoo Legal, 2024. Retrieved from https://legal.yahoo.com/us/en/yahoo/terms/otos/index.html. Accessed 17 February 2024."
   ]
  }
 ],
 "metadata": {
  "colab": {
   "provenance": []
  },
  "kernelspec": {
   "display_name": "Python 3 (ipykernel)",
   "language": "python",
   "name": "python3"
  },
  "language_info": {
   "codemirror_mode": {
    "name": "ipython",
    "version": 3
   },
   "file_extension": ".py",
   "mimetype": "text/x-python",
   "name": "python",
   "nbconvert_exporter": "python",
   "pygments_lexer": "ipython3",
   "version": "3.9.7"
  }
 },
 "nbformat": 4,
 "nbformat_minor": 5
}
