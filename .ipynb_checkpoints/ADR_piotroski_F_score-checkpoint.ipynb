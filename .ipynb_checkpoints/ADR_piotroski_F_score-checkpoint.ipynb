{
 "cells": [
  {
   "cell_type": "markdown",
   "id": "fbc51ce1",
   "metadata": {
    "id": "fbc51ce1"
   },
   "source": [
    "### <span style=\"color:red\">NOTE: This code already has the major results but is still </span><span style=\"text-decoration:underline;color:red\">work in progress</span>."
   ]
  },
  {
   "cell_type": "markdown",
   "id": "231fb19c",
   "metadata": {
    "id": "231fb19c"
   },
   "source": [
    "# 1. Identify the list of foreign ADRs and extract it for use"
   ]
  },
  {
   "cell_type": "markdown",
   "id": "2158437c",
   "metadata": {
    "id": "2158437c"
   },
   "source": [
    "The stock universe used in this research is from **adr.com**, a  website owned by J.P. Morgan that houses depositary receipts including ADR stocks. From this data, the list of ADR stocks and their ticker names are identified. The list of ADRs  extracted from **adr.com** is saved at: https://github.com/rexlaboratory/wqu-piotroski-f-score/tree/main/adr-universe"
   ]
  },
  {
   "cell_type": "markdown",
   "id": "78352919",
   "metadata": {
    "id": "78352919"
   },
   "source": [
    "# 2. Retrieve financial data using YahooQuery"
   ]
  },
  {
   "cell_type": "markdown",
   "id": "3dda6ac7",
   "metadata": {},
   "source": [
    "Using the Yahoo Query Python package (primarily), the financial information of the ADR stocks are retrieved from Yahoo Finance data."
   ]
  },
  {
   "cell_type": "code",
   "execution_count": 1,
   "id": "e32df516",
   "metadata": {
    "id": "e32df516"
   },
   "outputs": [],
   "source": [
    "# Load Libraries\n",
    "\n",
    "import pandas as pd\n",
    "import os\n",
    "import yahooquery as yq\n",
    "from yahooquery import Ticker\n",
    "import concurrent.futures\n",
    "from concurrent.futures import ThreadPoolExecutor\n",
    "from tqdm import tqdm\n",
    "import yfinance as yf\n",
    "import datetime\n",
    "from datetime import datetime, timedelta\n",
    "import matplotlib.pyplot as plt\n",
    "import concurrent\n",
    "import logging\n",
    "import pandas_datareader\n",
    "from pandas_datareader import data as pdr\n",
    "import warnings\n",
    "warnings.filterwarnings(\"ignore\") # Ignore warnings"
   ]
  },
  {
   "cell_type": "code",
   "execution_count": null,
   "id": "71cb26f2",
   "metadata": {
    "id": "71cb26f2"
   },
   "outputs": [],
   "source": [
    "# Specify the folder containing the ADR list\n",
    "folder_path = './adr-universe'\n",
    "\n",
    "# Retrieve the ADR list data from the files in folder_path; loop through each file in the folder\n",
    "for file_name in os.listdir(folder_path):\n",
    "    if file_name.endswith('.xlsx'):\n",
    "        file_path = os.path.join(folder_path, file_name)\n",
    "\n",
    "        # Read data from the Excel file into a DataFrame\n",
    "        df_adr = pd.read_excel(file_path)"
   ]
  },
  {
   "cell_type": "code",
   "execution_count": null,
   "id": "42d06d34",
   "metadata": {
    "id": "42d06d34",
    "outputId": "12934b14-924f-49d3-f3e2-6b3aaf8db5ec"
   },
   "outputs": [
    {
     "data": {
      "text/plain": [
       "2498"
      ]
     },
     "execution_count": 3,
     "metadata": {},
     "output_type": "execute_result"
    }
   ],
   "source": [
    "# Check how many records\n",
    "len(df_adr)"
   ]
  },
  {
   "cell_type": "code",
   "execution_count": null,
   "id": "956046ce",
   "metadata": {
    "id": "956046ce"
   },
   "outputs": [],
   "source": [
    "# Filter to include ADRs only\n",
    "df_adr = df_adr[df_adr['Type'] == 'ADR']"
   ]
  },
  {
   "cell_type": "code",
   "execution_count": null,
   "id": "80e46288",
   "metadata": {
    "id": "80e46288",
    "outputId": "750b0cf2-ac88-43d4-9881-8c41fb6e9dcc"
   },
   "outputs": [
    {
     "data": {
      "text/plain": [
       "2177"
      ]
     },
     "execution_count": 5,
     "metadata": {},
     "output_type": "execute_result"
    }
   ],
   "source": [
    "# Check how many records remain after filtering\n",
    "len(df_adr)"
   ]
  },
  {
   "cell_type": "code",
   "execution_count": null,
   "id": "43304eda",
   "metadata": {
    "id": "43304eda",
    "scrolled": true
   },
   "outputs": [],
   "source": [
    "# Store ADR ticker names in a list\n",
    "tickers_list = df_adr['Symbol'].tolist()"
   ]
  },
  {
   "cell_type": "code",
   "execution_count": null,
   "id": "b4806022",
   "metadata": {
    "id": "b4806022"
   },
   "outputs": [],
   "source": [
    "#Columns to retrieve from Yahoo Finance via Yahoo Query\n",
    "columns_to_extract = [\n",
    "    'asOfDate', 'periodType', 'NetIncome', 'GrossProfit', 'PretaxIncome',\n",
    "    'TotalRevenue', 'LongTermDebt', 'LongTermDebtAndCapitalLeaseObligation',\n",
    "    'TotalAssets', 'CurrentAssets', 'CurrentLiabilities', 'OperatingCashFlow',\n",
    "    'DilutedEPS', 'ShareIssued'\n",
    "]\n",
    "\n",
    "# List of tickers\n",
    "tickers = tickers_list\n",
    "\n",
    "\n",
    "#Define a function to fetch the data\n",
    "def fetch_data(ticker):\n",
    "    try:\n",
    "        # Get income statement data for the current ticker\n",
    "        financial_data = Ticker(ticker).all_financial_data()\n",
    "\n",
    "        # Extract the specified columns (with null values for non-existing columns)\n",
    "        data_for_ticker = {column: financial_data.get(column) for column in columns_to_extract}\n",
    "\n",
    "        # Add 'ticker' as a key to the dictionary\n",
    "        data_for_ticker['ticker'] = ticker\n",
    "\n",
    "        # Convert the dictionary to a DataFrame and return it\n",
    "        return pd.DataFrame(data_for_ticker)\n",
    "    except Exception as e:\n",
    "        # print(f\"Error fetching data for {ticker}: {str(e)}\")\n",
    "\n",
    "        return pd.DataFrame()"
   ]
  },
  {
   "cell_type": "code",
   "execution_count": null,
   "id": "f581ad8e",
   "metadata": {
    "id": "f581ad8e",
    "outputId": "0aaa376a-1e39-4136-9a4a-8973116552fd"
   },
   "outputs": [
    {
     "name": "stderr",
     "output_type": "stream",
     "text": [
      "Fetching Data: 100%|███████████████████████████████████████████████████████████████| 2177/2177 [14:22<00:00,  2.52it/s]\n"
     ]
    }
   ],
   "source": [
    "# Note: Running this code may take a while to complete. ThreadPool helped gain a slight improvement in run time.\n",
    "\n",
    "# Parallel processing to fetch the financial data\n",
    "with ThreadPoolExecutor() as executor, tqdm(total=len(tickers), desc=\"Fetching Data\") as pbar:\n",
    "    # Fetch data for all tickers concurrently\n",
    "    df_list = list(executor.map(lambda ticker: (pbar.update(1) or fetch_data(ticker)), tickers))"
   ]
  },
  {
   "cell_type": "code",
   "execution_count": null,
   "id": "3cc4884c",
   "metadata": {
    "id": "3cc4884c"
   },
   "outputs": [],
   "source": [
    "# Filter out unsuccessful fetches (False values)\n",
    "df_list1 = [df for df in df_list if isinstance(df, pd.DataFrame) and not df.empty]"
   ]
  },
  {
   "cell_type": "code",
   "execution_count": null,
   "id": "8ecae715",
   "metadata": {
    "id": "8ecae715",
    "outputId": "148efff3-bf9f-495d-f67f-0b433f2c44fc"
   },
   "outputs": [
    {
     "name": "stderr",
     "output_type": "stream",
     "text": [
      "C:\\Users\\rexeu\\AppData\\Local\\Temp\\ipykernel_14984\\1365732248.py:2: FutureWarning: The behavior of DataFrame concatenation with empty or all-NA entries is deprecated. In a future version, this will no longer exclude empty or all-NA columns when determining the result dtypes. To retain the old behavior, exclude the relevant entries before the concat operation.\n",
      "  df1 = pd.concat(df_list1, ignore_index=True)\n"
     ]
    }
   ],
   "source": [
    "# Combine individual DataFrames into one DataFrame\n",
    "df1 = pd.concat(df_list1, ignore_index=True)"
   ]
  },
  {
   "cell_type": "code",
   "execution_count": null,
   "id": "80a827a3",
   "metadata": {
    "id": "80a827a3",
    "outputId": "f7b71390-5671-44ff-e93c-af5b83487d35",
    "scrolled": false
   },
   "outputs": [
    {
     "data": {
      "text/html": [
       "<div>\n",
       "<style scoped>\n",
       "    .dataframe tbody tr th:only-of-type {\n",
       "        vertical-align: middle;\n",
       "    }\n",
       "\n",
       "    .dataframe tbody tr th {\n",
       "        vertical-align: top;\n",
       "    }\n",
       "\n",
       "    .dataframe thead th {\n",
       "        text-align: right;\n",
       "    }\n",
       "</style>\n",
       "<table border=\"1\" class=\"dataframe\">\n",
       "  <thead>\n",
       "    <tr style=\"text-align: right;\">\n",
       "      <th></th>\n",
       "      <th>asOfDate</th>\n",
       "      <th>periodType</th>\n",
       "      <th>NetIncome</th>\n",
       "      <th>GrossProfit</th>\n",
       "      <th>PretaxIncome</th>\n",
       "      <th>TotalRevenue</th>\n",
       "      <th>LongTermDebt</th>\n",
       "      <th>LongTermDebtAndCapitalLeaseObligation</th>\n",
       "      <th>TotalAssets</th>\n",
       "      <th>CurrentAssets</th>\n",
       "      <th>CurrentLiabilities</th>\n",
       "      <th>OperatingCashFlow</th>\n",
       "      <th>DilutedEPS</th>\n",
       "      <th>ticker</th>\n",
       "    </tr>\n",
       "  </thead>\n",
       "  <tbody>\n",
       "    <tr>\n",
       "      <th>0</th>\n",
       "      <td>2020-12-31</td>\n",
       "      <td>12M</td>\n",
       "      <td>-2.709347e+09</td>\n",
       "      <td>1.076011e+09</td>\n",
       "      <td>-2.581792e+09</td>\n",
       "      <td>4.829019e+09</td>\n",
       "      <td>3.901053e+09</td>\n",
       "      <td>5.234680e+09</td>\n",
       "      <td>1.937376e+10</td>\n",
       "      <td>6.055607e+09</td>\n",
       "      <td>6.121960e+09</td>\n",
       "      <td>7.142430e+08</td>\n",
       "      <td>-26.8200</td>\n",
       "      <td>VNET</td>\n",
       "    </tr>\n",
       "    <tr>\n",
       "      <th>1</th>\n",
       "      <td>2021-12-31</td>\n",
       "      <td>12M</td>\n",
       "      <td>5.000980e+08</td>\n",
       "      <td>1.438030e+09</td>\n",
       "      <td>6.651740e+08</td>\n",
       "      <td>6.189801e+09</td>\n",
       "      <td>6.481966e+09</td>\n",
       "      <td>9.885772e+09</td>\n",
       "      <td>2.309504e+10</td>\n",
       "      <td>5.324123e+09</td>\n",
       "      <td>5.179995e+09</td>\n",
       "      <td>1.387922e+09</td>\n",
       "      <td>-2.1600</td>\n",
       "      <td>VNET</td>\n",
       "    </tr>\n",
       "    <tr>\n",
       "      <th>2</th>\n",
       "      <td>2022-12-31</td>\n",
       "      <td>12M</td>\n",
       "      <td>-7.759520e+08</td>\n",
       "      <td>1.358256e+09</td>\n",
       "      <td>-6.304550e+08</td>\n",
       "      <td>7.065232e+09</td>\n",
       "      <td>8.909115e+09</td>\n",
       "      <td>1.286204e+10</td>\n",
       "      <td>2.694840e+10</td>\n",
       "      <td>7.052276e+09</td>\n",
       "      <td>6.332085e+09</td>\n",
       "      <td>2.440214e+09</td>\n",
       "      <td>-5.2200</td>\n",
       "      <td>VNET</td>\n",
       "    </tr>\n",
       "    <tr>\n",
       "      <th>3</th>\n",
       "      <td>2020-03-31</td>\n",
       "      <td>12M</td>\n",
       "      <td>2.140000e+08</td>\n",
       "      <td>NaN</td>\n",
       "      <td>2.150000e+08</td>\n",
       "      <td>3.310000e+08</td>\n",
       "      <td>NaN</td>\n",
       "      <td>5.950000e+08</td>\n",
       "      <td>8.567000e+09</td>\n",
       "      <td>NaN</td>\n",
       "      <td>NaN</td>\n",
       "      <td>NaN</td>\n",
       "      <td>0.1105</td>\n",
       "      <td>TGOPY</td>\n",
       "    </tr>\n",
       "    <tr>\n",
       "      <th>4</th>\n",
       "      <td>2020-09-30</td>\n",
       "      <td>12M</td>\n",
       "      <td>7.090000e+08</td>\n",
       "      <td>NaN</td>\n",
       "      <td>7.090000e+08</td>\n",
       "      <td>8.220000e+08</td>\n",
       "      <td>NaN</td>\n",
       "      <td>NaN</td>\n",
       "      <td>NaN</td>\n",
       "      <td>NaN</td>\n",
       "      <td>NaN</td>\n",
       "      <td>NaN</td>\n",
       "      <td>NaN</td>\n",
       "      <td>TGOPY</td>\n",
       "    </tr>\n",
       "  </tbody>\n",
       "</table>\n",
       "</div>"
      ],
      "text/plain": [
       "    asOfDate periodType     NetIncome   GrossProfit  PretaxIncome  \\\n",
       "0 2020-12-31        12M -2.709347e+09  1.076011e+09 -2.581792e+09   \n",
       "1 2021-12-31        12M  5.000980e+08  1.438030e+09  6.651740e+08   \n",
       "2 2022-12-31        12M -7.759520e+08  1.358256e+09 -6.304550e+08   \n",
       "3 2020-03-31        12M  2.140000e+08           NaN  2.150000e+08   \n",
       "4 2020-09-30        12M  7.090000e+08           NaN  7.090000e+08   \n",
       "\n",
       "   TotalRevenue  LongTermDebt  LongTermDebtAndCapitalLeaseObligation  \\\n",
       "0  4.829019e+09  3.901053e+09                           5.234680e+09   \n",
       "1  6.189801e+09  6.481966e+09                           9.885772e+09   \n",
       "2  7.065232e+09  8.909115e+09                           1.286204e+10   \n",
       "3  3.310000e+08           NaN                           5.950000e+08   \n",
       "4  8.220000e+08           NaN                                    NaN   \n",
       "\n",
       "    TotalAssets  CurrentAssets  CurrentLiabilities  OperatingCashFlow  \\\n",
       "0  1.937376e+10   6.055607e+09        6.121960e+09       7.142430e+08   \n",
       "1  2.309504e+10   5.324123e+09        5.179995e+09       1.387922e+09   \n",
       "2  2.694840e+10   7.052276e+09        6.332085e+09       2.440214e+09   \n",
       "3  8.567000e+09            NaN                 NaN                NaN   \n",
       "4           NaN            NaN                 NaN                NaN   \n",
       "\n",
       "   DilutedEPS ticker  \n",
       "0    -26.8200   VNET  \n",
       "1     -2.1600   VNET  \n",
       "2     -5.2200   VNET  \n",
       "3      0.1105  TGOPY  \n",
       "4         NaN  TGOPY  "
      ]
     },
     "execution_count": 11,
     "metadata": {},
     "output_type": "execute_result"
    }
   ],
   "source": [
    "# Check the first few records\n",
    "df1.head()"
   ]
  },
  {
   "cell_type": "code",
   "execution_count": null,
   "id": "9df11663",
   "metadata": {
    "id": "9df11663",
    "outputId": "785b1543-df5e-4630-c05f-0875e37833ba",
    "scrolled": true
   },
   "outputs": [
    {
     "data": {
      "text/plain": [
       "983"
      ]
     },
     "execution_count": 12,
     "metadata": {},
     "output_type": "execute_result"
    }
   ],
   "source": [
    "# Check the number of unique tickers fetched\n",
    "len(df1['ticker'].unique())"
   ]
  },
  {
   "cell_type": "markdown",
   "id": "a8862a3f",
   "metadata": {
    "id": "a8862a3f"
   },
   "source": [
    "# 3. Transform data and compute Piotroski F-Scores"
   ]
  },
  {
   "cell_type": "code",
   "execution_count": null,
   "id": "2131d5b6",
   "metadata": {
    "id": "2131d5b6"
   },
   "outputs": [],
   "source": [
    "# For historical reference, write the cleansed ADR data to an Excel file\n",
    "df1.to_excel('./output-files/cleansed_adr_list.xlsx', index=False)"
   ]
  },
  {
   "cell_type": "code",
   "execution_count": null,
   "id": "eca7d2a7",
   "metadata": {
    "id": "eca7d2a7"
   },
   "outputs": [],
   "source": [
    "# Convert 'asOfDate' to datetime type\n",
    "df1['asOfDate'] = pd.to_datetime(df1['asOfDate'])\n",
    "\n",
    "# Create a copy of df1\n",
    "df1_copy = df1"
   ]
  },
  {
   "cell_type": "code",
   "execution_count": null,
   "id": "a9d98a46",
   "metadata": {
    "id": "a9d98a46"
   },
   "outputs": [],
   "source": [
    "# Remove duplicate records using both 'asOfDate' and 'ticker'\n",
    "df1_copy.drop_duplicates(subset=['asOfDate', 'ticker'], keep='first', inplace=True)\n",
    "\n",
    "# Filter only the tickers with 'asOfDate' values: '2020-12-31', '2021-12-31', '2022-12-31'\n",
    "target_asofdates = ['2020-12-31', '2021-12-31', '2022-12-31']\n",
    "df_filtered1 = df1_copy[df1_copy['asOfDate'].isin(target_asofdates)]\n",
    "\n",
    "# Filter tickers with ALL three 'asOfDate' records: 2020, 2021, 2022. Ensure all three years have record for each ticker.\n",
    "filtered_tickers = df_filtered1.groupby('ticker')['asOfDate'].transform('nunique') == 3\n",
    "df_filtered2 = df_filtered1[filtered_tickers]\n",
    "df_filtered3 = df_filtered2[df_filtered2['asOfDate'].isin(target_asofdates)]"
   ]
  },
  {
   "cell_type": "markdown",
   "id": "42fe8c71",
   "metadata": {},
   "source": [
    "## 3.1 Computing for the Piotroski F-Scores"
   ]
  },
  {
   "cell_type": "markdown",
   "id": "935ad24b",
   "metadata": {},
   "source": [
    "From the financial information, the following nine questions are answered using a binary logic. For each ADR stock in a given year, one (1) point is earned if the answer to the corresponding question is ‘yes’. Otherwise, zero (0) point is given.\n",
    "\n",
    "1. Is Net Income positive?\n",
    "2. Is Operating Cash Flow positive?\n",
    "3. Is Return on Assets (Net Income divided by Total Assets) higher this year compared to last year?\n",
    "4. Is Operating Cash Flow greater than Net Income?\n",
    "5. Is Leverage (Long Term Debt And Capital Lease Obligation divided by Total Assets) lower this year compared to last year?\n",
    "    5a.  Long Term Debt is used as a proxy in case Long Term Debt And Capital Lease Obligation is not available from Yahoo Finance data.\n",
    "6. Is Liquidity (Current Assets divided by Current Liabilities) higher this year compared to last year?\n",
    "7. Is Shares Issued lower this year compared to last year?\n",
    "8. Is Gross Margin (Gross Profit divided by Total Revenue) higher this year compared to last year?\n",
    "    8a.  Pretax Income is used as a proxy in case Gross Profit is not available from Yahoo Finance data.\n",
    "9. Is Asset Turnover (Total Revenue divided by Total Assets) higher this year compared to last year?\n"
   ]
  },
  {
   "cell_type": "code",
   "execution_count": 43,
   "id": "616a17e0",
   "metadata": {
    "id": "616a17e0"
   },
   "outputs": [],
   "source": [
    "# Define a function to calculate Boolean values for each of the Piotroski criteria\n",
    "# Note: IsLeverage2Improved is used as a proxy for IsLeverage1Improved depending on financial statement format from Yahoo Finance\n",
    "# Note: IsGrossMargin2Improved is be used as a proxy for IsGrossMargin1Improved depending on financial statement format from Yahoo Finance\n",
    "def calculate_boolean_values(df):\n",
    "    df['IsNetIncomePositive'] = (df['NetIncome'] > 0).astype(int)\n",
    "    df['IsOperatingCashFlowPositive'] = (df['OperatingCashFlow'] > 0).astype(int)\n",
    "    df['IsROAImproved'] = ((df['NetIncome'] / df['TotalAssets']) > (df.groupby('ticker')['NetIncome'].shift() / df.groupby('ticker')['TotalAssets'].shift())).astype(int)\n",
    "    df['IsCashFlowGreaterThanNetIncome'] = (df['OperatingCashFlow'] > df['NetIncome']).astype(int)\n",
    "    df['IsLeverage1Improved'] = ((df['LongTermDebtAndCapitalLeaseObligation'] / df['TotalAssets']) < (df.groupby('ticker')['LongTermDebtAndCapitalLeaseObligation'].shift() / df.groupby('ticker')['TotalAssets'].shift())).astype(int)\n",
    "    df['IsLeverage2Improved'] = ((df['LongTermDebt'] / df['TotalAssets']) < (df.groupby('ticker')['LongTermDebt'].shift() / df.groupby('ticker')['TotalAssets'].shift())).astype(int)\n",
    "    df['IsLiquidityImproved'] = ((df['CurrentAssets'] / df['CurrentLiabilities']) > (df.groupby('ticker')['CurrentAssets'].shift() / df.groupby('ticker')['CurrentLiabilities'].shift())).astype(int)\n",
    "    df['IsShareIssuedReduced'] = ((df['ShareIssued']) < (df.groupby('ticker')['ShareIssued'].shift())).astype(int)\n",
    "    df['IsGrossMargin1Improved'] = ((df['GrossProfit'] / df['TotalRevenue']) > (df.groupby('ticker')['GrossProfit'].shift() / df.groupby('ticker')['TotalRevenue'].shift())).astype(int)\n",
    "    df['IsGrossMargin2Improved'] = ((df['PretaxIncome'] / df['TotalRevenue']) > (df.groupby('ticker')['PretaxIncome'].shift() / df.groupby('ticker')['TotalRevenue'].shift())).astype(int)\n",
    "    df['IsAssetTurnoverImproved'] = ((df['TotalRevenue'] / df['TotalAssets']) > (df.groupby('ticker')['TotalRevenue'].shift() / df.groupby('ticker')['TotalAssets'].shift())).astype(int)\n",
    "\n",
    "    # Add Fscore column\n",
    "    df['Fscore'] = (\n",
    "        df['IsNetIncomePositive'] +\n",
    "        df['IsOperatingCashFlowPositive'] +\n",
    "        df['IsROAImproved'] +\n",
    "        df['IsCashFlowGreaterThanNetIncome'] +\n",
    "        df[['IsLeverage1Improved', 'IsLeverage2Improved']].max(axis=1) + # Get only the maximum between the two; IsLeverage2Improved is used as a proxy for IsLeverage1Improved\n",
    "        df['IsLiquidityImproved'] +\n",
    "        df['IsShareIssuedReduced'] +\n",
    "        df[['IsGrossMargin1Improved', 'IsGrossMargin2Improved']].max(axis=1) + # Get only the maximum between the two; IsGrossMargin2Improved can be used as a proxy for IsGrossMargin1Improved\n",
    "        df['IsAssetTurnoverImproved']\n",
    "    )"
   ]
  },
  {
   "cell_type": "code",
   "execution_count": 44,
   "id": "63822843",
   "metadata": {
    "id": "63822843"
   },
   "outputs": [],
   "source": [
    "# Calculate the Piotroski criteria value using the function defined earlier\n",
    "calculate_boolean_values(df_filtered3)"
   ]
  },
  {
   "cell_type": "code",
   "execution_count": null,
   "id": "a3a68974",
   "metadata": {
    "id": "a3a68974"
   },
   "outputs": [],
   "source": [
    "# Create two new dataframes for 2021 and 2022 summaries\n",
    "df_2021 = df_filtered3[df_filtered3['asOfDate'].dt.year == 2021].copy()\n",
    "df_2022 = df_filtered3[df_filtered3['asOfDate'].dt.year == 2022].copy()"
   ]
  },
  {
   "cell_type": "code",
   "execution_count": null,
   "id": "1a84e2e4",
   "metadata": {
    "id": "1a84e2e4",
    "outputId": "bd935b57-a01a-40f4-8e09-7315e52f6abc"
   },
   "outputs": [
    {
     "data": {
      "text/plain": [
       "742"
      ]
     },
     "execution_count": 58,
     "metadata": {},
     "output_type": "execute_result"
    }
   ],
   "source": [
    "# Check the number of unique tickers in 2021 data\n",
    "len(df_2021['ticker'].unique())"
   ]
  },
  {
   "cell_type": "code",
   "execution_count": null,
   "id": "4f3906be",
   "metadata": {
    "id": "4f3906be",
    "outputId": "27878b87-772c-4bf8-bed7-87aaaf152832"
   },
   "outputs": [
    {
     "data": {
      "text/plain": [
       "742"
      ]
     },
     "execution_count": 60,
     "metadata": {},
     "output_type": "execute_result"
    }
   ],
   "source": [
    "# Check the number of unique tickers in 2022 data\n",
    "len(df_2022['ticker'].unique())"
   ]
  },
  {
   "cell_type": "code",
   "execution_count": null,
   "id": "ae9edfd3",
   "metadata": {
    "id": "ae9edfd3"
   },
   "outputs": [],
   "source": [
    "# For historical reference, save the Fscore data to Excel files\n",
    "fscore_file_path = './output-files/adr_piotroskFscores_2021_2022.xlsx'\n",
    "df_filtered3.to_excel(fscore_file_path, index=False)\n",
    "\n",
    "# For historical reference, save the 2021 Fscore data to Excel files\n",
    "fscore_2021_file_path = './output-files/adr_piotroskFscores_2021.xlsx'\n",
    "df_2021.to_excel(fscore_2021_file_path, index=False)\n",
    "\n",
    "# For historical reference, save the 2022 Fscore data to Excel files\n",
    "fscore_2022_file_path = './output-files/adr_piotroskiFscores_2022.xlsx'\n",
    "df_2022.to_excel(fscore_2022_file_path, index=False)"
   ]
  },
  {
   "cell_type": "code",
   "execution_count": null,
   "id": "dd52c023",
   "metadata": {
    "id": "dd52c023"
   },
   "outputs": [],
   "source": [
    "# Define a variable 'basket_df' as the stock basket\n",
    "basket_df = df_2021\n",
    "\n",
    "# Define the start dates and end dates range for downloading the ADR stock price (close price)\n",
    "start_date_2022 = '2022-01-03'\n",
    "start_date_2022_1 = '2022-01-04'\n",
    "\n",
    "end_date_2022 = '2022-12-30'\n",
    "end_date_2022_1 = '2022-12-31'\n",
    "\n",
    "start_date_2023 = '2023-01-03'\n",
    "start_date_2023_1 = '2023-01-04'\n",
    "\n",
    "end_date_2023 = '2023-12-29'\n",
    "end_date_2023_1 = '2023-12-30'"
   ]
  },
  {
   "cell_type": "code",
   "execution_count": null,
   "id": "f36a5503",
   "metadata": {
    "id": "f36a5503",
    "outputId": "c6ad076d-03ef-4f1e-8ece-fcaaf85d42f9",
    "scrolled": true
   },
   "outputs": [
    {
     "name": "stdout",
     "output_type": "stream",
     "text": [
      "[*********************100%***********************]  742 of 742 completed\n",
      "\n",
      "50 Failed downloads:\n",
      "- HAGHY: Data doesn't exist for startDate = 1641186000, endDate = 1641272400\n",
      "- AKRBY: Data doesn't exist for startDate = 1641186000, endDate = 1641272400\n",
      "- JDHIY: Data doesn't exist for startDate = 1641186000, endDate = 1641272400\n",
      "- GEDRY: No data found, symbol may be delisted\n",
      "- PSPSY: Data doesn't exist for startDate = 1641186000, endDate = 1641272400\n",
      "- HXXPY: Data doesn't exist for startDate = 1641186000, endDate = 1641272400\n",
      "- TCBP: Data doesn't exist for startDate = 1641186000, endDate = 1641272400\n",
      "- DRPRY: Data doesn't exist for startDate = 1641186000, endDate = 1641272400\n",
      "- THGHY: Data doesn't exist for startDate = 1641186000, endDate = 1641272400\n",
      "- SVRE: Data doesn't exist for startDate = 1641186000, endDate = 1641272400\n",
      "- NDWTY: Data doesn't exist for startDate = 1641186000, endDate = 1641272400\n",
      "- BKFKY: Data doesn't exist for startDate = 1641186000, endDate = 1641272400\n",
      "- NIABY: Data doesn't exist for startDate = 1641186000, endDate = 1641272400\n",
      "- AKBDY: No data found, symbol may be delisted\n",
      "- CIG/C: No data found for this date range, symbol may be delisted\n",
      "- NPPHY: Data doesn't exist for startDate = 1641186000, endDate = 1641272400\n",
      "- CDLR: Data doesn't exist for startDate = 1641186000, endDate = 1641272400\n",
      "- NRGIY: Data doesn't exist for startDate = 1641186000, endDate = 1641272400\n",
      "- MLTTY: Data doesn't exist for startDate = 1641186000, endDate = 1641272400\n",
      "- CTNGY: Data doesn't exist for startDate = 1641186000, endDate = 1641272400\n",
      "- BTTAY: Data doesn't exist for startDate = 1641186000, endDate = 1641272400\n",
      "- TCGGY: Data doesn't exist for startDate = 1641186000, endDate = 1641272400\n",
      "- ABHBY: Data doesn't exist for startDate = 1641186000, endDate = 1641272400\n",
      "- CHLSY: Data doesn't exist for startDate = 1641186000, endDate = 1641272400\n",
      "- CCPEL: No data found, symbol may be delisted\n",
      "- JSLGY: Data doesn't exist for startDate = 1641186000, endDate = 1641272400\n",
      "- AKO/B: No data found for this date range, symbol may be delisted\n",
      "- SIGCY: Data doesn't exist for startDate = 1641186000, endDate = 1641272400\n",
      "- CGNWY: No data found, symbol may be delisted\n",
      "- EXTO: Data doesn't exist for startDate = 1641186000, endDate = 1641272400\n",
      "- CFACY: Data doesn't exist for startDate = 1641186000, endDate = 1641272400\n",
      "- TKKYY: Data doesn't exist for startDate = 1641186000, endDate = 1641272400\n",
      "- TGASY: No data found, symbol may be delisted\n",
      "- CNHHY: Data doesn't exist for startDate = 1641186000, endDate = 1641272400\n",
      "- BTSNY: Data doesn't exist for startDate = 1641186000, endDate = 1641272400\n",
      "- UDIRY: No data found, symbol may be delisted\n",
      "- KZHXY: No data found, symbol may be delisted\n",
      "- TTVSY: Data doesn't exist for startDate = 1641186000, endDate = 1641272400\n",
      "- ASBRY: No data found for this date range, symbol may be delisted\n",
      "- VWAPY: Data doesn't exist for startDate = 1641186000, endDate = 1641272400\n",
      "- VLVCY: Data doesn't exist for startDate = 1641186000, endDate = 1641272400\n",
      "- ZHHJY: Data doesn't exist for startDate = 1641186000, endDate = 1641272400\n",
      "- RICFY: Data doesn't exist for startDate = 1641186000, endDate = 1641272400\n",
      "- HLN: Data doesn't exist for startDate = 1641186000, endDate = 1641272400\n",
      "- MPZAY: Data doesn't exist for startDate = 1641186000, endDate = 1641272400\n",
      "- FLDAY: Data doesn't exist for startDate = 1641186000, endDate = 1641272400\n",
      "- WILWY: Data doesn't exist for startDate = 1641186000, endDate = 1641272400\n",
      "- GPCR: Data doesn't exist for startDate = 1641186000, endDate = 1641272400\n",
      "- HCXLY: Data doesn't exist for startDate = 1641186000, endDate = 1641272400\n",
      "- GNZUY: Data doesn't exist for startDate = 1641186000, endDate = 1641272400\n",
      "[*********************100%***********************]  742 of 742 completed\n",
      "\n",
      "32 Failed downloads:\n",
      "- AKRBY: Data doesn't exist for startDate = 1672376400, endDate = 1672462800\n",
      "- GEDRY: No data found, symbol may be delisted\n",
      "- PSPSY: Data doesn't exist for startDate = 1672376400, endDate = 1672462800\n",
      "- NDWTY: Data doesn't exist for startDate = 1672376400, endDate = 1672462800\n",
      "- BKFKY: Data doesn't exist for startDate = 1672376400, endDate = 1672462800\n",
      "- CIG/C: No data found for this date range, symbol may be delisted\n",
      "- AKBDY: No data found, symbol may be delisted\n",
      "- NPPHY: Data doesn't exist for startDate = 1672376400, endDate = 1672462800\n",
      "- CDLR: Data doesn't exist for startDate = 1672376400, endDate = 1672462800\n",
      "- NRGIY: Data doesn't exist for startDate = 1672376400, endDate = 1672462800\n",
      "- MLTTY: Data doesn't exist for startDate = 1672376400, endDate = 1672462800\n",
      "- ABHBY: Data doesn't exist for startDate = 1672376400, endDate = 1672462800\n",
      "- CCPEL: No data found, symbol may be delisted\n",
      "- JSLGY: Data doesn't exist for startDate = 1672376400, endDate = 1672462800\n",
      "- AKO/B: No data found for this date range, symbol may be delisted\n",
      "- CGNWY: No data found, symbol may be delisted\n",
      "- EXTO: Data doesn't exist for startDate = 1672376400, endDate = 1672462800\n",
      "- CFACY: Data doesn't exist for startDate = 1672376400, endDate = 1672462800\n",
      "- TGASY: No data found, symbol may be delisted\n",
      "- CNHHY: Data doesn't exist for startDate = 1672376400, endDate = 1672462800\n",
      "- BTSNY: Data doesn't exist for startDate = 1672376400, endDate = 1672462800\n",
      "- UDIRY: No data found, symbol may be delisted\n",
      "- KZHXY: No data found, symbol may be delisted\n",
      "- TTVSY: Data doesn't exist for startDate = 1672376400, endDate = 1672462800\n",
      "- ASBRY: No data found for this date range, symbol may be delisted\n",
      "- VWAPY: Data doesn't exist for startDate = 1672376400, endDate = 1672462800\n",
      "- ZHHJY: Data doesn't exist for startDate = 1672376400, endDate = 1672462800\n",
      "- RICFY: Data doesn't exist for startDate = 1672376400, endDate = 1672462800\n",
      "- FLDAY: Data doesn't exist for startDate = 1672376400, endDate = 1672462800\n",
      "- WILWY: Data doesn't exist for startDate = 1672376400, endDate = 1672462800\n",
      "- GPCR: Data doesn't exist for startDate = 1672376400, endDate = 1672462800\n",
      "- GNZUY: Data doesn't exist for startDate = 1672376400, endDate = 1672462800\n",
      "[*********************100%***********************]  742 of 742 completed\n",
      "\n",
      "32 Failed downloads:\n",
      "- AKRBY: Data doesn't exist for startDate = 1672722000, endDate = 1672808400\n",
      "- GEDRY: No data found, symbol may be delisted\n",
      "- PSPSY: Data doesn't exist for startDate = 1672722000, endDate = 1672808400\n",
      "- NDWTY: Data doesn't exist for startDate = 1672722000, endDate = 1672808400\n",
      "- BKFKY: Data doesn't exist for startDate = 1672722000, endDate = 1672808400\n",
      "- AKBDY: No data found, symbol may be delisted\n",
      "- CIG/C: No data found for this date range, symbol may be delisted\n",
      "- NPPHY: Data doesn't exist for startDate = 1672722000, endDate = 1672808400\n",
      "- CDLR: Data doesn't exist for startDate = 1672722000, endDate = 1672808400\n",
      "- NRGIY: Data doesn't exist for startDate = 1672722000, endDate = 1672808400\n",
      "- MLTTY: Data doesn't exist for startDate = 1672722000, endDate = 1672808400\n",
      "- ABHBY: Data doesn't exist for startDate = 1672722000, endDate = 1672808400\n",
      "- CCPEL: No data found, symbol may be delisted\n",
      "- JSLGY: Data doesn't exist for startDate = 1672722000, endDate = 1672808400\n",
      "- AKO/B: No data found for this date range, symbol may be delisted\n",
      "- CGNWY: No data found, symbol may be delisted\n",
      "- EXTO: Data doesn't exist for startDate = 1672722000, endDate = 1672808400\n",
      "- CFACY: Data doesn't exist for startDate = 1672722000, endDate = 1672808400\n",
      "- TGASY: No data found, symbol may be delisted\n",
      "- CNHHY: Data doesn't exist for startDate = 1672722000, endDate = 1672808400\n",
      "- BTSNY: Data doesn't exist for startDate = 1672722000, endDate = 1672808400\n",
      "- UDIRY: No data found, symbol may be delisted\n",
      "- KZHXY: No data found, symbol may be delisted\n",
      "- TTVSY: Data doesn't exist for startDate = 1672722000, endDate = 1672808400\n",
      "- ASBRY: No data found for this date range, symbol may be delisted\n",
      "- VWAPY: Data doesn't exist for startDate = 1672722000, endDate = 1672808400\n",
      "- ZHHJY: Data doesn't exist for startDate = 1672722000, endDate = 1672808400\n",
      "- RICFY: Data doesn't exist for startDate = 1672722000, endDate = 1672808400\n",
      "- FLDAY: Data doesn't exist for startDate = 1672722000, endDate = 1672808400\n",
      "- WILWY: Data doesn't exist for startDate = 1672722000, endDate = 1672808400\n",
      "- GPCR: Data doesn't exist for startDate = 1672722000, endDate = 1672808400\n",
      "- GNZUY: Data doesn't exist for startDate = 1672722000, endDate = 1672808400\n"
     ]
    },
    {
     "name": "stdout",
     "output_type": "stream",
     "text": [
      "[*********************100%***********************]  742 of 742 completed\n",
      "\n",
      "16 Failed downloads:\n",
      "- GEDRY: No data found, symbol may be delisted\n",
      "- DSGUY: No data found for this date range, symbol may be delisted\n",
      "- AKBDY: No data found, symbol may be delisted\n",
      "- CIG/C: No data found for this date range, symbol may be delisted\n",
      "- CCPEL: No data found, symbol may be delisted\n",
      "- AKO/B: No data found for this date range, symbol may be delisted\n",
      "- CGNWY: No data found, symbol may be delisted\n",
      "- TGASY: No data found, symbol may be delisted\n",
      "- UDIRY: No data found, symbol may be delisted\n",
      "- STWRY: No data found for this date range, symbol may be delisted\n",
      "- KZHXY: No data found, symbol may be delisted\n",
      "- ASBRY: No data found for this date range, symbol may be delisted\n",
      "- GRVY: No data found for this date range, symbol may be delisted\n",
      "- MOHCY: No data found for this date range, symbol may be delisted\n",
      "- PANDY: No data found for this date range, symbol may be delisted\n",
      "- RICFY: No data found for this date range, symbol may be delisted\n"
     ]
    }
   ],
   "source": [
    "# Note: Fetching the daily stock price data for 2-year range for hundreds of stocks may take a while.\n",
    "\n",
    "# Fetch adjusted close prices at the defined date range\n",
    "start_prices_2022 = yf.download(basket_df['ticker'].tolist(), start = start_date_2022, end = start_date_2022_1)['Close']\n",
    "end_prices_2022 = yf.download(basket_df['ticker'].tolist(), start = end_date_2022, end = end_date_2022_1)['Close']\n",
    "start_prices_2023 = yf.download(basket_df['ticker'].tolist(), start = start_date_2023, end = start_date_2023_1)['Close']\n",
    "end_prices_2023 = yf.download(basket_df['ticker'].tolist(), start = end_date_2023, end = end_date_2023_1)['Close']"
   ]
  },
  {
   "cell_type": "markdown",
   "id": "b3f193e7",
   "metadata": {},
   "source": [
    "Some of the stocks (e.g., delisted stocks in a particular year) do not have price data. For example, in 2022 there are 50 stocks (out of 742) without price data, while we have complete price data for 692 stocks."
   ]
  },
  {
   "cell_type": "code",
   "execution_count": null,
   "id": "c72730c4",
   "metadata": {
    "id": "c72730c4"
   },
   "outputs": [],
   "source": [
    "# For historical reference, save the successfully retrieved ADR stock price data to Excel files\n",
    "start_prices_2022.to_excel('./output-files/start_prices_2022.xlsx', index=False)\n",
    "end_prices_2022.to_excel('./output-files/end_prices_2022.xlsx', index=False)\n",
    "start_prices_2023.to_excel('./output-files/start_prices_2023.xlsx', index=False)\n",
    "end_prices_2023.to_excel('./output-files/end_prices_2023.xlsx', index=False)"
   ]
  },
  {
   "cell_type": "code",
   "execution_count": 2,
   "id": "dae82731",
   "metadata": {},
   "outputs": [],
   "source": [
    "# Retrieve the Fscore Excel data processed earlier\n",
    "\n",
    "fscore_file_path = './output-files/adr_piotroskFscores_2021_2022.xlsx'\n",
    "fscore_2021_file_path = './output-files/adr_piotroskFscores_2021.xlsx'\n",
    "fscore_2022_file_path = './output-files/adr_piotroskiFscores_2022.xlsx'\n",
    "adr_universe_file_path = './adr-universe/dr_universe.xlsx'\n",
    "\n",
    "df_filtered3 = pd.read_excel(fscore_file_path)\n",
    "df_2021 = pd.read_excel(fscore_2021_file_path)\n",
    "df_2022 = pd.read_excel(fscore_2022_file_path)\n",
    "df_adr_ref = pd.read_excel(adr_universe_file_path)"
   ]
  },
  {
   "cell_type": "code",
   "execution_count": 3,
   "id": "2d378a8f",
   "metadata": {},
   "outputs": [],
   "source": [
    "# Retrieve the stock price data processed earlier\n",
    "start_prices_2022 = pd.read_excel('./output-files/start_prices_2022.xlsx')\n",
    "end_prices_2022 = pd.read_excel('./output-files/end_prices_2022.xlsx')\n",
    "start_prices_2023 = pd.read_excel('./output-files/start_prices_2023.xlsx')\n",
    "end_prices_2023 = pd.read_excel('./output-files/end_prices_2023.xlsx')"
   ]
  },
  {
   "cell_type": "code",
   "execution_count": 4,
   "id": "5157ab9d",
   "metadata": {},
   "outputs": [],
   "source": [
    "# Merge the Fscore and Stock Price data tables with df_adr_ref to lookup the Region and Country\n",
    "\n",
    "df_filtered3 = pd.merge(df_filtered3, df_adr_ref[['Symbol', 'Region', 'Country']], left_on='ticker', right_on='Symbol', how='left')\n",
    "df_filtered3 = df_filtered3.drop('Symbol', axis=1)\n",
    "\n",
    "df_2021 = pd.merge(df_2021, df_adr_ref[['Symbol', 'Region', 'Country']], left_on='ticker', right_on='Symbol', how='left')\n",
    "df_2021 = df_2021.drop('Symbol', axis=1)\n",
    "\n",
    "df_2022 = pd.merge(df_2022, df_adr_ref[['Symbol', 'Region', 'Country']], left_on='ticker', right_on='Symbol', how='left')\n",
    "df_2022 = df_2022.drop('Symbol', axis=1)"
   ]
  },
  {
   "cell_type": "code",
   "execution_count": 5,
   "id": "cee2bd20",
   "metadata": {},
   "outputs": [],
   "source": [
    "# Retrieve stock price data processed earlier\n",
    "end_prices_2022_a = pd.DataFrame(end_prices_2022.iloc[0])\n",
    "end_prices_2023_a = pd.DataFrame(end_prices_2023.iloc[0])\n",
    "start_prices_2022_a = pd.DataFrame(start_prices_2022.iloc[0])\n",
    "start_prices_2023_a = pd.DataFrame(start_prices_2023.iloc[0])\n",
    "\n",
    "# Merge start and end prices for each year for computation of returns\n",
    "merged_2022 = pd.merge(start_prices_2022_a, end_prices_2022_a, left_index=True, right_index=True, how='inner')\n",
    "merged_2023 = pd.merge(start_prices_2023_a, end_prices_2023_a, left_index=True, right_index=True, how='inner')\n",
    "\n",
    "# Compute percentage returns\n",
    "merged_2022['returns_2022'] = (merged_2022['0_y'] / merged_2022['0_x']) - 1\n",
    "merged_2023['returns_2023'] = (merged_2023['0_y'] / merged_2023['0_x']) - 1\n",
    "\n",
    "# Rename columns\n",
    "merged_2022.rename(columns={'0_x': 'start_price', '0_y': 'end_price'}, inplace=True)\n",
    "merged_2023.rename(columns={'0_x': 'start_price', '0_y': 'end_price'}, inplace=True)\n",
    "\n",
    "# Remove the 'ticker' as index and add as a normal column instead\n",
    "merged_2022.reset_index(inplace=True)\n",
    "merged_2023.reset_index(inplace=True)\n",
    "merged_2022.rename(columns={'index': 'ticker'}, inplace=True)\n",
    "merged_2023.rename(columns={'index': 'ticker'}, inplace=True)\n",
    "\n",
    "# Get Fscore, Country and Region data thru joining\n",
    "merged_2022 = pd.merge(merged_2022, df_2021[['ticker', 'Fscore', 'Region', 'Country']], left_on='ticker', right_on='ticker', how='left')\n",
    "merged_2023 = pd.merge(merged_2023, df_2022[['ticker', 'Fscore', 'Region', 'Country']], left_on='ticker', right_on='ticker', how='left')"
   ]
  },
  {
   "cell_type": "code",
   "execution_count": 6,
   "id": "105ab194",
   "metadata": {},
   "outputs": [
    {
     "data": {
      "text/html": [
       "<div>\n",
       "<style scoped>\n",
       "    .dataframe tbody tr th:only-of-type {\n",
       "        vertical-align: middle;\n",
       "    }\n",
       "\n",
       "    .dataframe tbody tr th {\n",
       "        vertical-align: top;\n",
       "    }\n",
       "\n",
       "    .dataframe thead th {\n",
       "        text-align: right;\n",
       "    }\n",
       "</style>\n",
       "<table border=\"1\" class=\"dataframe\">\n",
       "  <thead>\n",
       "    <tr style=\"text-align: right;\">\n",
       "      <th></th>\n",
       "      <th>ticker</th>\n",
       "      <th>start_price</th>\n",
       "      <th>end_price</th>\n",
       "      <th>returns_2022</th>\n",
       "      <th>Fscore</th>\n",
       "      <th>Region</th>\n",
       "      <th>Country</th>\n",
       "    </tr>\n",
       "  </thead>\n",
       "  <tbody>\n",
       "    <tr>\n",
       "      <th>0</th>\n",
       "      <td>AAALY</td>\n",
       "      <td>33.450001</td>\n",
       "      <td>34.650002</td>\n",
       "      <td>0.035874</td>\n",
       "      <td>7</td>\n",
       "      <td>Dev. Europe</td>\n",
       "      <td>Germany</td>\n",
       "    </tr>\n",
       "    <tr>\n",
       "      <th>1</th>\n",
       "      <td>AACAY</td>\n",
       "      <td>3.900000</td>\n",
       "      <td>2.200000</td>\n",
       "      <td>-0.435897</td>\n",
       "      <td>5</td>\n",
       "      <td>Emrg. Asia</td>\n",
       "      <td>China</td>\n",
       "    </tr>\n",
       "    <tr>\n",
       "      <th>2</th>\n",
       "      <td>AAGIY</td>\n",
       "      <td>40.650002</td>\n",
       "      <td>44.430000</td>\n",
       "      <td>0.092989</td>\n",
       "      <td>4</td>\n",
       "      <td>Dev. Asia</td>\n",
       "      <td>Hong Kong</td>\n",
       "    </tr>\n",
       "    <tr>\n",
       "      <th>3</th>\n",
       "      <td>AAVMY</td>\n",
       "      <td>14.830000</td>\n",
       "      <td>13.820000</td>\n",
       "      <td>-0.068105</td>\n",
       "      <td>6</td>\n",
       "      <td>Dev. Europe</td>\n",
       "      <td>Netherlands</td>\n",
       "    </tr>\n",
       "    <tr>\n",
       "      <th>4</th>\n",
       "      <td>ABDBY</td>\n",
       "      <td>3.550000</td>\n",
       "      <td>4.040000</td>\n",
       "      <td>0.138028</td>\n",
       "      <td>0</td>\n",
       "      <td>Dev. Europe</td>\n",
       "      <td>Denmark</td>\n",
       "    </tr>\n",
       "  </tbody>\n",
       "</table>\n",
       "</div>"
      ],
      "text/plain": [
       "  ticker  start_price  end_price  returns_2022  Fscore       Region  \\\n",
       "0  AAALY    33.450001  34.650002      0.035874       7  Dev. Europe   \n",
       "1  AACAY     3.900000   2.200000     -0.435897       5   Emrg. Asia   \n",
       "2  AAGIY    40.650002  44.430000      0.092989       4    Dev. Asia   \n",
       "3  AAVMY    14.830000  13.820000     -0.068105       6  Dev. Europe   \n",
       "4  ABDBY     3.550000   4.040000      0.138028       0  Dev. Europe   \n",
       "\n",
       "       Country  \n",
       "0      Germany  \n",
       "1        China  \n",
       "2    Hong Kong  \n",
       "3  Netherlands  \n",
       "4      Denmark  "
      ]
     },
     "execution_count": 6,
     "metadata": {},
     "output_type": "execute_result"
    }
   ],
   "source": [
    "# View the 2022 returns data - first few records\n",
    "merged_2022.head()"
   ]
  },
  {
   "cell_type": "code",
   "execution_count": 7,
   "id": "9c2ea8bf",
   "metadata": {},
   "outputs": [
    {
     "data": {
      "text/html": [
       "<div>\n",
       "<style scoped>\n",
       "    .dataframe tbody tr th:only-of-type {\n",
       "        vertical-align: middle;\n",
       "    }\n",
       "\n",
       "    .dataframe tbody tr th {\n",
       "        vertical-align: top;\n",
       "    }\n",
       "\n",
       "    .dataframe thead th {\n",
       "        text-align: right;\n",
       "    }\n",
       "</style>\n",
       "<table border=\"1\" class=\"dataframe\">\n",
       "  <thead>\n",
       "    <tr style=\"text-align: right;\">\n",
       "      <th></th>\n",
       "      <th>ticker</th>\n",
       "      <th>start_price</th>\n",
       "      <th>end_price</th>\n",
       "      <th>returns_2023</th>\n",
       "      <th>Fscore</th>\n",
       "      <th>Region</th>\n",
       "      <th>Country</th>\n",
       "    </tr>\n",
       "  </thead>\n",
       "  <tbody>\n",
       "    <tr>\n",
       "      <th>0</th>\n",
       "      <td>AAALY</td>\n",
       "      <td>34.650002</td>\n",
       "      <td>34.650002</td>\n",
       "      <td>0.000000</td>\n",
       "      <td>5</td>\n",
       "      <td>Dev. Europe</td>\n",
       "      <td>Germany</td>\n",
       "    </tr>\n",
       "    <tr>\n",
       "      <th>1</th>\n",
       "      <td>AACAY</td>\n",
       "      <td>2.240000</td>\n",
       "      <td>2.890000</td>\n",
       "      <td>0.290179</td>\n",
       "      <td>2</td>\n",
       "      <td>Emrg. Asia</td>\n",
       "      <td>China</td>\n",
       "    </tr>\n",
       "    <tr>\n",
       "      <th>2</th>\n",
       "      <td>AAGIY</td>\n",
       "      <td>45.799999</td>\n",
       "      <td>34.669998</td>\n",
       "      <td>-0.243013</td>\n",
       "      <td>4</td>\n",
       "      <td>Dev. Asia</td>\n",
       "      <td>Hong Kong</td>\n",
       "    </tr>\n",
       "    <tr>\n",
       "      <th>3</th>\n",
       "      <td>AAVMY</td>\n",
       "      <td>14.570000</td>\n",
       "      <td>14.980000</td>\n",
       "      <td>0.028140</td>\n",
       "      <td>6</td>\n",
       "      <td>Dev. Europe</td>\n",
       "      <td>Netherlands</td>\n",
       "    </tr>\n",
       "    <tr>\n",
       "      <th>4</th>\n",
       "      <td>ABDBY</td>\n",
       "      <td>4.040000</td>\n",
       "      <td>4.040000</td>\n",
       "      <td>0.000000</td>\n",
       "      <td>0</td>\n",
       "      <td>Dev. Europe</td>\n",
       "      <td>Denmark</td>\n",
       "    </tr>\n",
       "  </tbody>\n",
       "</table>\n",
       "</div>"
      ],
      "text/plain": [
       "  ticker  start_price  end_price  returns_2023  Fscore       Region  \\\n",
       "0  AAALY    34.650002  34.650002      0.000000       5  Dev. Europe   \n",
       "1  AACAY     2.240000   2.890000      0.290179       2   Emrg. Asia   \n",
       "2  AAGIY    45.799999  34.669998     -0.243013       4    Dev. Asia   \n",
       "3  AAVMY    14.570000  14.980000      0.028140       6  Dev. Europe   \n",
       "4  ABDBY     4.040000   4.040000      0.000000       0  Dev. Europe   \n",
       "\n",
       "       Country  \n",
       "0      Germany  \n",
       "1        China  \n",
       "2    Hong Kong  \n",
       "3  Netherlands  \n",
       "4      Denmark  "
      ]
     },
     "execution_count": 7,
     "metadata": {},
     "output_type": "execute_result"
    }
   ],
   "source": [
    "# View the 2023 returns data - first few records\n",
    "merged_2023.head()"
   ]
  },
  {
   "cell_type": "markdown",
   "id": "417f0be7",
   "metadata": {
    "id": "417f0be7"
   },
   "source": [
    "# 4. Compute returns and compare: High-F-score stocks VS Low-F-score stocks VS ADR Stock Index by region"
   ]
  },
  {
   "cell_type": "markdown",
   "id": "dca8e09a",
   "metadata": {},
   "source": [
    "## 4.1  Set up the ADR stock index and compute for the returns\n",
    "The ADR Stock Index is created using equal-weighted returns of all the ADR stocks in a particular 'region'. This is used as a baseline when comparing the performance of high-F-score and low-F-score stocks. "
   ]
  },
  {
   "cell_type": "code",
   "execution_count": 8,
   "id": "cfdc4e99",
   "metadata": {},
   "outputs": [],
   "source": [
    "# Calculate the 2022 Returns\n",
    "\n",
    "# Save 2022 data as 'df'\n",
    "df = merged_2022\n",
    "\n",
    "# Define a function to calculate equal-weighted returns (Index)\n",
    "def calculate_equal_weighted_returns(df):\n",
    "    return df.groupby('Region')['returns_2022'].mean().mean()\n",
    "\n",
    "# Create a dictionary to store the results\n",
    "summary_dict = {'Region': [], 'Index_Returns': [], 'Low_Fscore_Returns': [], 'High_Fscore_Returns': []}\n",
    "\n",
    "# Calculate and add returns for Fscore categories and by region\n",
    "for region in df['Region'].unique():\n",
    "    region_df = df[df['Region'] == region]\n",
    "    \n",
    "    # Equal-weighted returns for the region\n",
    "    region_returns = calculate_equal_weighted_returns(region_df)\n",
    "    \n",
    "    # Equal-weighted returns for Fscore categories\n",
    "    fscore_0_6_returns = calculate_equal_weighted_returns(region_df[(region_df['Fscore'] >= 0) & (region_df['Fscore'] <= 6)])\n",
    "    fscore_7_9_returns = calculate_equal_weighted_returns(region_df[(region_df['Fscore'] >= 7) & (region_df['Fscore'] <= 9)])\n",
    "    \n",
    "    # Add data to the summary dictionary\n",
    "    summary_dict['Region'].append(region)\n",
    "    summary_dict['Index_Returns'].append(region_returns)\n",
    "    summary_dict['Low_Fscore_Returns'].append(fscore_0_6_returns)\n",
    "    summary_dict['High_Fscore_Returns'].append(fscore_7_9_returns)\n",
    "\n",
    "# Create a DataFrame from the summary dictionary\n",
    "summary_df1 = pd.DataFrame(summary_dict)"
   ]
  },
  {
   "cell_type": "code",
   "execution_count": 9,
   "id": "78f30129",
   "metadata": {},
   "outputs": [],
   "source": [
    "# Calculate the 2023 Returns\n",
    "\n",
    "# Save 2023 data as 'df'\n",
    "df = merged_2023\n",
    "\n",
    "# Define a function to calculate equal-weighted returns\n",
    "def calculate_equal_weighted_returns(df):\n",
    "    return df.groupby('Region')['returns_2023'].mean().mean()\n",
    "\n",
    "# Create a dictionary to store the results\n",
    "summary_dict = {'Region': [], 'Index_Returns': [], 'Low_Fscore_Returns': [], 'High_Fscore_Returns': []}\n",
    "\n",
    "# Calculate and add returns for Fscore categories and by region\n",
    "for region in df['Region'].unique():\n",
    "    region_df = df[df['Region'] == region]\n",
    "    \n",
    "    # Equal-weighted returns for the region\n",
    "    region_returns = calculate_equal_weighted_returns(region_df)\n",
    "    \n",
    "    # Equal-weighted returns for Fscore categories\n",
    "    fscore_0_6_returns = calculate_equal_weighted_returns(region_df[(region_df['Fscore'] >= 0) & (region_df['Fscore'] <= 6)])\n",
    "    fscore_7_9_returns = calculate_equal_weighted_returns(region_df[(region_df['Fscore'] >= 7) & (region_df['Fscore'] <= 9)])\n",
    "    \n",
    "    # Add data to the summary dictionary\n",
    "    summary_dict['Region'].append(region)\n",
    "    summary_dict['Index_Returns'].append(region_returns)\n",
    "    summary_dict['Low_Fscore_Returns'].append(fscore_0_6_returns)\n",
    "    summary_dict['High_Fscore_Returns'].append(fscore_7_9_returns)\n",
    "\n",
    "# Create a DataFrame from the summary dictionary\n",
    "summary_df2 = pd.DataFrame(summary_dict)"
   ]
  },
  {
   "cell_type": "markdown",
   "id": "73b6d817",
   "metadata": {},
   "source": [
    "## 4.2  Compare the results: High-F-score stocks VS Low-F-score stocks VS ADR Stock Index by region"
   ]
  },
  {
   "cell_type": "code",
   "execution_count": 10,
   "id": "a7b8c48a",
   "metadata": {},
   "outputs": [
    {
     "name": "stdout",
     "output_type": "stream",
     "text": [
      "================================================================\n",
      "                  TABLE 1. 2022 RETURNS SUMMARY\n",
      "================================================================\n"
     ]
    },
    {
     "data": {
      "text/html": [
       "<div>\n",
       "<style scoped>\n",
       "    .dataframe tbody tr th:only-of-type {\n",
       "        vertical-align: middle;\n",
       "    }\n",
       "\n",
       "    .dataframe tbody tr th {\n",
       "        vertical-align: top;\n",
       "    }\n",
       "\n",
       "    .dataframe thead th {\n",
       "        text-align: right;\n",
       "    }\n",
       "</style>\n",
       "<table border=\"1\" class=\"dataframe\">\n",
       "  <thead>\n",
       "    <tr style=\"text-align: right;\">\n",
       "      <th></th>\n",
       "      <th>Region</th>\n",
       "      <th>Index_Returns</th>\n",
       "      <th>Low_Fscore_Returns</th>\n",
       "      <th>High_Fscore_Returns</th>\n",
       "    </tr>\n",
       "  </thead>\n",
       "  <tbody>\n",
       "    <tr>\n",
       "      <th>0</th>\n",
       "      <td>Dev. Europe</td>\n",
       "      <td>-0.185057</td>\n",
       "      <td>-0.200580</td>\n",
       "      <td>-0.159724</td>\n",
       "    </tr>\n",
       "    <tr>\n",
       "      <th>1</th>\n",
       "      <td>Emrg. Asia</td>\n",
       "      <td>-0.141074</td>\n",
       "      <td>-0.143610</td>\n",
       "      <td>-0.132372</td>\n",
       "    </tr>\n",
       "    <tr>\n",
       "      <th>2</th>\n",
       "      <td>Dev. Asia</td>\n",
       "      <td>-0.140825</td>\n",
       "      <td>-0.169253</td>\n",
       "      <td>-0.087919</td>\n",
       "    </tr>\n",
       "    <tr>\n",
       "      <th>3</th>\n",
       "      <td>Latin America</td>\n",
       "      <td>0.078542</td>\n",
       "      <td>0.124844</td>\n",
       "      <td>0.009090</td>\n",
       "    </tr>\n",
       "    <tr>\n",
       "      <th>4</th>\n",
       "      <td>Emrg. Europe</td>\n",
       "      <td>0.111039</td>\n",
       "      <td>0.140486</td>\n",
       "      <td>0.042331</td>\n",
       "    </tr>\n",
       "    <tr>\n",
       "      <th>5</th>\n",
       "      <td>Middle East / Africa</td>\n",
       "      <td>-0.292006</td>\n",
       "      <td>-0.323159</td>\n",
       "      <td>-0.159609</td>\n",
       "    </tr>\n",
       "  </tbody>\n",
       "</table>\n",
       "</div>"
      ],
      "text/plain": [
       "                 Region  Index_Returns  Low_Fscore_Returns  \\\n",
       "0           Dev. Europe      -0.185057           -0.200580   \n",
       "1            Emrg. Asia      -0.141074           -0.143610   \n",
       "2             Dev. Asia      -0.140825           -0.169253   \n",
       "3         Latin America       0.078542            0.124844   \n",
       "4          Emrg. Europe       0.111039            0.140486   \n",
       "5  Middle East / Africa      -0.292006           -0.323159   \n",
       "\n",
       "   High_Fscore_Returns  \n",
       "0            -0.159724  \n",
       "1            -0.132372  \n",
       "2            -0.087919  \n",
       "3             0.009090  \n",
       "4             0.042331  \n",
       "5            -0.159609  "
      ]
     },
     "execution_count": 10,
     "metadata": {},
     "output_type": "execute_result"
    }
   ],
   "source": [
    "# Print the 2022 summary\n",
    "print(\"================================================================\")\n",
    "print(\"                  TABLE 1. 2022 RETURNS SUMMARY\")\n",
    "print(\"================================================================\")\n",
    "summary_df1"
   ]
  },
  {
   "cell_type": "code",
   "execution_count": 11,
   "id": "e5eab102",
   "metadata": {},
   "outputs": [
    {
     "name": "stdout",
     "output_type": "stream",
     "text": [
      "================================================================\n",
      "                  TABLE 2. 2023 RETURNS SUMMARY\n",
      "================================================================\n"
     ]
    },
    {
     "data": {
      "text/html": [
       "<div>\n",
       "<style scoped>\n",
       "    .dataframe tbody tr th:only-of-type {\n",
       "        vertical-align: middle;\n",
       "    }\n",
       "\n",
       "    .dataframe tbody tr th {\n",
       "        vertical-align: top;\n",
       "    }\n",
       "\n",
       "    .dataframe thead th {\n",
       "        text-align: right;\n",
       "    }\n",
       "</style>\n",
       "<table border=\"1\" class=\"dataframe\">\n",
       "  <thead>\n",
       "    <tr style=\"text-align: right;\">\n",
       "      <th></th>\n",
       "      <th>Region</th>\n",
       "      <th>Index_Returns</th>\n",
       "      <th>Low_Fscore_Returns</th>\n",
       "      <th>High_Fscore_Returns</th>\n",
       "    </tr>\n",
       "  </thead>\n",
       "  <tbody>\n",
       "    <tr>\n",
       "      <th>0</th>\n",
       "      <td>Dev. Europe</td>\n",
       "      <td>0.092225</td>\n",
       "      <td>0.074277</td>\n",
       "      <td>0.136727</td>\n",
       "    </tr>\n",
       "    <tr>\n",
       "      <th>1</th>\n",
       "      <td>Emrg. Asia</td>\n",
       "      <td>-0.021697</td>\n",
       "      <td>-0.046318</td>\n",
       "      <td>0.088275</td>\n",
       "    </tr>\n",
       "    <tr>\n",
       "      <th>2</th>\n",
       "      <td>Dev. Asia</td>\n",
       "      <td>-0.064695</td>\n",
       "      <td>-0.101057</td>\n",
       "      <td>0.069183</td>\n",
       "    </tr>\n",
       "    <tr>\n",
       "      <th>3</th>\n",
       "      <td>Latin America</td>\n",
       "      <td>0.394208</td>\n",
       "      <td>0.368080</td>\n",
       "      <td>0.527749</td>\n",
       "    </tr>\n",
       "    <tr>\n",
       "      <th>4</th>\n",
       "      <td>Emrg. Europe</td>\n",
       "      <td>0.100477</td>\n",
       "      <td>0.091629</td>\n",
       "      <td>0.116909</td>\n",
       "    </tr>\n",
       "    <tr>\n",
       "      <th>5</th>\n",
       "      <td>Middle East / Africa</td>\n",
       "      <td>-0.074799</td>\n",
       "      <td>-0.082560</td>\n",
       "      <td>-0.054104</td>\n",
       "    </tr>\n",
       "  </tbody>\n",
       "</table>\n",
       "</div>"
      ],
      "text/plain": [
       "                 Region  Index_Returns  Low_Fscore_Returns  \\\n",
       "0           Dev. Europe       0.092225            0.074277   \n",
       "1            Emrg. Asia      -0.021697           -0.046318   \n",
       "2             Dev. Asia      -0.064695           -0.101057   \n",
       "3         Latin America       0.394208            0.368080   \n",
       "4          Emrg. Europe       0.100477            0.091629   \n",
       "5  Middle East / Africa      -0.074799           -0.082560   \n",
       "\n",
       "   High_Fscore_Returns  \n",
       "0             0.136727  \n",
       "1             0.088275  \n",
       "2             0.069183  \n",
       "3             0.527749  \n",
       "4             0.116909  \n",
       "5            -0.054104  "
      ]
     },
     "execution_count": 11,
     "metadata": {},
     "output_type": "execute_result"
    }
   ],
   "source": [
    "# Print the 2023 summary\n",
    "print(\"================================================================\")\n",
    "print(\"                  TABLE 2. 2023 RETURNS SUMMARY\")\n",
    "print(\"================================================================\")\n",
    "summary_df2"
   ]
  },
  {
   "cell_type": "markdown",
   "id": "b6788798",
   "metadata": {},
   "source": [
    "Based on the contrasting performances of the ADR stock index in Table 1 and Table 2, 2022 and 2023 can be considered as two periods with different market conditions. 2022 can be considered a period under a ‘bad’ market condition and 2023 a period under a relatively ‘good’ market condition.\n",
    "\n",
    "Based on the results for 2022 in Table 1, the overall performance of high-F-score stocks is better than both the index and the low-F-score stock returns except for two regions – Asia emerging economies and Europe emerging economies. Results for 2023 in Table 2 show that the  high-F-score stocks perform better than both the index and the low-F-score stock returns for all the regions."
   ]
  }
 ],
 "metadata": {
  "colab": {
   "provenance": []
  },
  "kernelspec": {
   "display_name": "Python 3 (ipykernel)",
   "language": "python",
   "name": "python3"
  },
  "language_info": {
   "codemirror_mode": {
    "name": "ipython",
    "version": 3
   },
   "file_extension": ".py",
   "mimetype": "text/x-python",
   "name": "python",
   "nbconvert_exporter": "python",
   "pygments_lexer": "ipython3",
   "version": "3.9.7"
  }
 },
 "nbformat": 4,
 "nbformat_minor": 5
}
