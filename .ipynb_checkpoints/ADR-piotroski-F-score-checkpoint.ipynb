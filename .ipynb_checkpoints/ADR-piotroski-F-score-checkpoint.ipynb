{
 "cells": [
  {
   "cell_type": "markdown",
   "id": "a48e79b3",
   "metadata": {},
   "source": [
    "### <span style=\"color:red\">**NOTE: This code is not yet complete and still on the initial part of construction.**</span>"
   ]
  },
  {
   "cell_type": "markdown",
   "id": "a626e643",
   "metadata": {},
   "source": [
    "# 1. Identify the list of foreign ADRs and extract it for use."
   ]
  },
  {
   "cell_type": "markdown",
   "id": "051ca277",
   "metadata": {},
   "source": [
    "The most comprehensive list of ADRs is found at and can be extracted from **adr.com**. The extracted file is saved at: https://github.com/rexlaboratory/wqu-piotroski-f-score/tree/main/adr-universe"
   ]
  },
  {
   "cell_type": "markdown",
   "id": "3cf556a4",
   "metadata": {},
   "source": [
    "# 2. Retrieve financial data using YahooQuery"
   ]
  },
  {
   "cell_type": "code",
   "execution_count": 1,
   "id": "e32df516",
   "metadata": {},
   "outputs": [],
   "source": [
    "# Load Libraries\n",
    "\n",
    "import pandas as pd\n",
    "import os\n",
    "from yahooquery import Ticker\n",
    "from concurrent.futures import ThreadPoolExecutor\n",
    "from tqdm import tqdm"
   ]
  },
  {
   "cell_type": "code",
   "execution_count": 2,
   "id": "71cb26f2",
   "metadata": {},
   "outputs": [],
   "source": [
    "# Specify the folder containing the ADR list\n",
    "folder_path = './adr-universe'\n",
    "\n",
    "# Loop through each file in the folder\n",
    "for file_name in os.listdir(folder_path):\n",
    "    if file_name.endswith('.xlsx'):\n",
    "        file_path = os.path.join(folder_path, file_name)\n",
    "        \n",
    "        # Read data from the Excel file into a DataFrame\n",
    "        df_adr = pd.read_excel(file_path)"
   ]
  },
  {
   "cell_type": "code",
   "execution_count": 3,
   "id": "42d06d34",
   "metadata": {},
   "outputs": [
    {
     "data": {
      "text/plain": [
       "2498"
      ]
     },
     "execution_count": 3,
     "metadata": {},
     "output_type": "execute_result"
    }
   ],
   "source": [
    "# Check how many records\n",
    "len(df_adr)"
   ]
  },
  {
   "cell_type": "code",
   "execution_count": 4,
   "id": "956046ce",
   "metadata": {},
   "outputs": [],
   "source": [
    "# Filter to include ADRs only\n",
    "df_adr = df_adr[df_adr['Type'] == 'ADR']"
   ]
  },
  {
   "cell_type": "code",
   "execution_count": 5,
   "id": "80e46288",
   "metadata": {},
   "outputs": [
    {
     "data": {
      "text/plain": [
       "2177"
      ]
     },
     "execution_count": 5,
     "metadata": {},
     "output_type": "execute_result"
    }
   ],
   "source": [
    "# Check how many records remain after filtering\n",
    "len(df_adr)"
   ]
  },
  {
   "cell_type": "code",
   "execution_count": 6,
   "id": "43304eda",
   "metadata": {
    "scrolled": true
   },
   "outputs": [],
   "source": [
    "# Store ADR ticker names in a list\n",
    "tickers_list = df_adr['Symbol'].tolist()"
   ]
  },
  {
   "cell_type": "code",
   "execution_count": 7,
   "id": "b4806022",
   "metadata": {},
   "outputs": [],
   "source": [
    "#4a\n",
    "\n",
    "from concurrent.futures import ThreadPoolExecutor\n",
    "from tqdm import tqdm\n",
    "\n",
    "# Specify the columns you want to retrieve\n",
    "columns_to_extract = [\n",
    "    'asOfDate', 'periodType', 'NetIncome', 'GrossProfit', 'PretaxIncome',\n",
    "    'TotalRevenue', 'LongTermDebt', 'LongTermDebtAndCapitalLeaseObligation',\n",
    "    'TotalAssets', 'CurrentAssets', 'CurrentLiabilities', 'OperatingCashFlow',\n",
    "    'DilutedEPS'\n",
    "]\n",
    "\n",
    "# List of tickers\n",
    "tickers = tickers_list\n",
    "\n",
    "def fetch_data(ticker):\n",
    "    try:\n",
    "        # Get income statement data for the current ticker\n",
    "        financial_data = Ticker(ticker).all_financial_data()\n",
    "        \n",
    "        # Extract the specified columns (with null values for non-existing columns)\n",
    "        data_for_ticker = {column: financial_data.get(column) for column in columns_to_extract}\n",
    "        \n",
    "        # Add 'ticker' as a key to the dictionary\n",
    "        data_for_ticker['ticker'] = ticker\n",
    "        \n",
    "        # Convert the dictionary to a DataFrame and return it\n",
    "        return pd.DataFrame(data_for_ticker)\n",
    "    except Exception as e:\n",
    "        # print(f\"Error fetching data for {ticker}: {str(e)}\")\n",
    "\n",
    "        return pd.DataFrame()"
   ]
  },
  {
   "cell_type": "code",
   "execution_count": 8,
   "id": "f581ad8e",
   "metadata": {},
   "outputs": [
    {
     "name": "stderr",
     "output_type": "stream",
     "text": [
      "Fetching Data: 100%|███████████████████████████████████████████████████████████████| 2177/2177 [14:22<00:00,  2.52it/s]\n"
     ]
    }
   ],
   "source": [
    "# Parallel processing\n",
    "with ThreadPoolExecutor() as executor, tqdm(total=len(tickers), desc=\"Fetching Data\") as pbar:\n",
    "    # Fetch data for all tickers concurrently\n",
    "    df_list = list(executor.map(lambda ticker: (pbar.update(1) or fetch_data(ticker)), tickers))"
   ]
  },
  {
   "cell_type": "code",
   "execution_count": 9,
   "id": "3cc4884c",
   "metadata": {},
   "outputs": [],
   "source": [
    "# Filter out unsuccessful fetches (False values)\n",
    "df_list1 = [df for df in df_list if isinstance(df, pd.DataFrame) and not df.empty]"
   ]
  },
  {
   "cell_type": "code",
   "execution_count": 10,
   "id": "8ecae715",
   "metadata": {},
   "outputs": [
    {
     "name": "stderr",
     "output_type": "stream",
     "text": [
      "C:\\Users\\rexeu\\AppData\\Local\\Temp\\ipykernel_14984\\1365732248.py:2: FutureWarning: The behavior of DataFrame concatenation with empty or all-NA entries is deprecated. In a future version, this will no longer exclude empty or all-NA columns when determining the result dtypes. To retain the old behavior, exclude the relevant entries before the concat operation.\n",
      "  df1 = pd.concat(df_list1, ignore_index=True)\n"
     ]
    }
   ],
   "source": [
    "# Combine individual DataFrames into one DataFrame\n",
    "df1 = pd.concat(df_list1, ignore_index=True)"
   ]
  },
  {
   "cell_type": "code",
   "execution_count": 11,
   "id": "80a827a3",
   "metadata": {
    "scrolled": false
   },
   "outputs": [
    {
     "data": {
      "text/html": [
       "<div>\n",
       "<style scoped>\n",
       "    .dataframe tbody tr th:only-of-type {\n",
       "        vertical-align: middle;\n",
       "    }\n",
       "\n",
       "    .dataframe tbody tr th {\n",
       "        vertical-align: top;\n",
       "    }\n",
       "\n",
       "    .dataframe thead th {\n",
       "        text-align: right;\n",
       "    }\n",
       "</style>\n",
       "<table border=\"1\" class=\"dataframe\">\n",
       "  <thead>\n",
       "    <tr style=\"text-align: right;\">\n",
       "      <th></th>\n",
       "      <th>asOfDate</th>\n",
       "      <th>periodType</th>\n",
       "      <th>NetIncome</th>\n",
       "      <th>GrossProfit</th>\n",
       "      <th>PretaxIncome</th>\n",
       "      <th>TotalRevenue</th>\n",
       "      <th>LongTermDebt</th>\n",
       "      <th>LongTermDebtAndCapitalLeaseObligation</th>\n",
       "      <th>TotalAssets</th>\n",
       "      <th>CurrentAssets</th>\n",
       "      <th>CurrentLiabilities</th>\n",
       "      <th>OperatingCashFlow</th>\n",
       "      <th>DilutedEPS</th>\n",
       "      <th>ticker</th>\n",
       "    </tr>\n",
       "  </thead>\n",
       "  <tbody>\n",
       "    <tr>\n",
       "      <th>0</th>\n",
       "      <td>2020-12-31</td>\n",
       "      <td>12M</td>\n",
       "      <td>-2.709347e+09</td>\n",
       "      <td>1.076011e+09</td>\n",
       "      <td>-2.581792e+09</td>\n",
       "      <td>4.829019e+09</td>\n",
       "      <td>3.901053e+09</td>\n",
       "      <td>5.234680e+09</td>\n",
       "      <td>1.937376e+10</td>\n",
       "      <td>6.055607e+09</td>\n",
       "      <td>6.121960e+09</td>\n",
       "      <td>7.142430e+08</td>\n",
       "      <td>-26.8200</td>\n",
       "      <td>VNET</td>\n",
       "    </tr>\n",
       "    <tr>\n",
       "      <th>1</th>\n",
       "      <td>2021-12-31</td>\n",
       "      <td>12M</td>\n",
       "      <td>5.000980e+08</td>\n",
       "      <td>1.438030e+09</td>\n",
       "      <td>6.651740e+08</td>\n",
       "      <td>6.189801e+09</td>\n",
       "      <td>6.481966e+09</td>\n",
       "      <td>9.885772e+09</td>\n",
       "      <td>2.309504e+10</td>\n",
       "      <td>5.324123e+09</td>\n",
       "      <td>5.179995e+09</td>\n",
       "      <td>1.387922e+09</td>\n",
       "      <td>-2.1600</td>\n",
       "      <td>VNET</td>\n",
       "    </tr>\n",
       "    <tr>\n",
       "      <th>2</th>\n",
       "      <td>2022-12-31</td>\n",
       "      <td>12M</td>\n",
       "      <td>-7.759520e+08</td>\n",
       "      <td>1.358256e+09</td>\n",
       "      <td>-6.304550e+08</td>\n",
       "      <td>7.065232e+09</td>\n",
       "      <td>8.909115e+09</td>\n",
       "      <td>1.286204e+10</td>\n",
       "      <td>2.694840e+10</td>\n",
       "      <td>7.052276e+09</td>\n",
       "      <td>6.332085e+09</td>\n",
       "      <td>2.440214e+09</td>\n",
       "      <td>-5.2200</td>\n",
       "      <td>VNET</td>\n",
       "    </tr>\n",
       "    <tr>\n",
       "      <th>3</th>\n",
       "      <td>2020-03-31</td>\n",
       "      <td>12M</td>\n",
       "      <td>2.140000e+08</td>\n",
       "      <td>NaN</td>\n",
       "      <td>2.150000e+08</td>\n",
       "      <td>3.310000e+08</td>\n",
       "      <td>NaN</td>\n",
       "      <td>5.950000e+08</td>\n",
       "      <td>8.567000e+09</td>\n",
       "      <td>NaN</td>\n",
       "      <td>NaN</td>\n",
       "      <td>NaN</td>\n",
       "      <td>0.1105</td>\n",
       "      <td>TGOPY</td>\n",
       "    </tr>\n",
       "    <tr>\n",
       "      <th>4</th>\n",
       "      <td>2020-09-30</td>\n",
       "      <td>12M</td>\n",
       "      <td>7.090000e+08</td>\n",
       "      <td>NaN</td>\n",
       "      <td>7.090000e+08</td>\n",
       "      <td>8.220000e+08</td>\n",
       "      <td>NaN</td>\n",
       "      <td>NaN</td>\n",
       "      <td>NaN</td>\n",
       "      <td>NaN</td>\n",
       "      <td>NaN</td>\n",
       "      <td>NaN</td>\n",
       "      <td>NaN</td>\n",
       "      <td>TGOPY</td>\n",
       "    </tr>\n",
       "  </tbody>\n",
       "</table>\n",
       "</div>"
      ],
      "text/plain": [
       "    asOfDate periodType     NetIncome   GrossProfit  PretaxIncome  \\\n",
       "0 2020-12-31        12M -2.709347e+09  1.076011e+09 -2.581792e+09   \n",
       "1 2021-12-31        12M  5.000980e+08  1.438030e+09  6.651740e+08   \n",
       "2 2022-12-31        12M -7.759520e+08  1.358256e+09 -6.304550e+08   \n",
       "3 2020-03-31        12M  2.140000e+08           NaN  2.150000e+08   \n",
       "4 2020-09-30        12M  7.090000e+08           NaN  7.090000e+08   \n",
       "\n",
       "   TotalRevenue  LongTermDebt  LongTermDebtAndCapitalLeaseObligation  \\\n",
       "0  4.829019e+09  3.901053e+09                           5.234680e+09   \n",
       "1  6.189801e+09  6.481966e+09                           9.885772e+09   \n",
       "2  7.065232e+09  8.909115e+09                           1.286204e+10   \n",
       "3  3.310000e+08           NaN                           5.950000e+08   \n",
       "4  8.220000e+08           NaN                                    NaN   \n",
       "\n",
       "    TotalAssets  CurrentAssets  CurrentLiabilities  OperatingCashFlow  \\\n",
       "0  1.937376e+10   6.055607e+09        6.121960e+09       7.142430e+08   \n",
       "1  2.309504e+10   5.324123e+09        5.179995e+09       1.387922e+09   \n",
       "2  2.694840e+10   7.052276e+09        6.332085e+09       2.440214e+09   \n",
       "3  8.567000e+09            NaN                 NaN                NaN   \n",
       "4           NaN            NaN                 NaN                NaN   \n",
       "\n",
       "   DilutedEPS ticker  \n",
       "0    -26.8200   VNET  \n",
       "1     -2.1600   VNET  \n",
       "2     -5.2200   VNET  \n",
       "3      0.1105  TGOPY  \n",
       "4         NaN  TGOPY  "
      ]
     },
     "execution_count": 11,
     "metadata": {},
     "output_type": "execute_result"
    }
   ],
   "source": [
    "# Check the first few records\n",
    "df1.head()"
   ]
  },
  {
   "cell_type": "code",
   "execution_count": 12,
   "id": "9df11663",
   "metadata": {
    "scrolled": true
   },
   "outputs": [
    {
     "data": {
      "text/plain": [
       "983"
      ]
     },
     "execution_count": 12,
     "metadata": {},
     "output_type": "execute_result"
    }
   ],
   "source": [
    "# Check the number of unique tickers fetched\n",
    "len(df1['ticker'].unique())"
   ]
  },
  {
   "cell_type": "markdown",
   "id": "6a1ef5c5",
   "metadata": {},
   "source": [
    "# 3. Transform data and compute Piotroski F-Scores"
   ]
  },
  {
   "cell_type": "markdown",
   "id": "6715a9c3",
   "metadata": {},
   "source": [
    "(UNDER CONSTRUCTION)"
   ]
  },
  {
   "cell_type": "markdown",
   "id": "47bb889e",
   "metadata": {},
   "source": [
    "# 4. Calculate the Donchian Channel"
   ]
  },
  {
   "cell_type": "markdown",
   "id": "4d86f05c",
   "metadata": {},
   "source": [
    "(UNDER CONSTRUCTION)"
   ]
  },
  {
   "cell_type": "markdown",
   "id": "4c53dd22",
   "metadata": {},
   "source": [
    "# 5. Implement Weekly Momentum Trading Strategy (Benchmark)"
   ]
  },
  {
   "cell_type": "markdown",
   "id": "0a29a468",
   "metadata": {},
   "source": [
    "(UNDER CONSTRUCTION)"
   ]
  },
  {
   "cell_type": "markdown",
   "id": "9dbf6b13",
   "metadata": {},
   "source": [
    "# 6. Implement Weekly Momentum Trading Strategy with Piotroski F-Score"
   ]
  },
  {
   "cell_type": "markdown",
   "id": "fbce3ad4",
   "metadata": {},
   "source": [
    "(UNDER CONSTRUCTION)"
   ]
  },
  {
   "cell_type": "markdown",
   "id": "f4eef2f6",
   "metadata": {},
   "source": [
    "# 7. Compare the impact of using Piotroski F-Score"
   ]
  },
  {
   "cell_type": "markdown",
   "id": "1d918a81",
   "metadata": {},
   "source": [
    "(UNDER CONSTRUCTION)"
   ]
  }
 ],
 "metadata": {
  "kernelspec": {
   "display_name": "Python 3 (ipykernel)",
   "language": "python",
   "name": "python3"
  },
  "language_info": {
   "codemirror_mode": {
    "name": "ipython",
    "version": 3
   },
   "file_extension": ".py",
   "mimetype": "text/x-python",
   "name": "python",
   "nbconvert_exporter": "python",
   "pygments_lexer": "ipython3",
   "version": "3.9.7"
  }
 },
 "nbformat": 4,
 "nbformat_minor": 5
}
